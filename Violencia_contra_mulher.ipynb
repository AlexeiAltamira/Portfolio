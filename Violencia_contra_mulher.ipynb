{
  "nbformat": 4,
  "nbformat_minor": 0,
  "metadata": {
    "colab": {
      "provenance": [],
      "authorship_tag": "ABX9TyNMOTPzRhaH4hziKaLAD8Wk",
      "include_colab_link": true
    },
    "kernelspec": {
      "name": "python3",
      "display_name": "Python 3"
    },
    "language_info": {
      "name": "python"
    }
  },
  "cells": [
    {
      "cell_type": "markdown",
      "metadata": {
        "id": "view-in-github",
        "colab_type": "text"
      },
      "source": [
        "<a href=\"https://colab.research.google.com/github/AlexeiAltamira/Portfolio/blob/main/Violencia_contra_mulher.ipynb\" target=\"_parent\"><img src=\"https://colab.research.google.com/assets/colab-badge.svg\" alt=\"Open In Colab\"/></a>"
      ]
    },
    {
      "cell_type": "code",
      "execution_count": 61,
      "metadata": {
        "id": "pea-YCcfH7-6"
      },
      "outputs": [],
      "source": [
        "import pandas as pd # Importar principais bibliotecas para auxiliar na leitura, manipulação, tratamento e análise dos dados\n",
        "import matplotlib.pyplot as plt # Importar a biblioteca para criação de gráficos"
      ]
    },
    {
      "cell_type": "code",
      "source": [
        "# Os arquivos originais no site estam no formato CSV. Mas o formato é mais compativel com excel por ja estarem em colunas separadas\n",
        "#e não por nenhum sinal. Abri individualmente cada arquivo e salvei no formato do excel\n",
        "mulher_2010 = pd.read_excel('/content/dados_violencia_mulheres_ses_2010.xls')\n",
        "mulher_2011 = pd.read_excel('/content/dados_violencia_mulheres_ses_2011.xls')\n",
        "mulher_2012 = pd.read_excel('/content/dados_violencia_mulheres_ses_2012.xls')\n",
        "mulher_2013 = pd.read_excel('/content/dados_violencia_mulheres_ses_2013.xls')\n",
        "mulher_2014 = pd.read_excel('/content/dados_violencia_mulheres_ses_2014.xls')\n",
        "mulher_2015 = pd.read_excel('/content/dados_violencia_mulheres_ses_2015.xls')\n",
        "mulher_2016 = pd.read_excel('/content/dados_violencia_mulheres_ses_2016.xls')\n",
        "mulher_2017 = pd.read_excel('/content/dados_violencia_mulheres_ses_2017.xls')\n",
        "mulher_2018 = pd.read_excel('/content/dados_violencia_mulheres_ses_2018.xls')\n",
        "mulher_2019 = pd.read_excel('/content/dados_violencia_mulheres_ses_2019.xls')\n",
        "mulher_2020 = pd.read_excel('/content/dados_violencia_mulheres_ses_2020.xls')\n",
        "mulher_2021 = pd.read_excel('/content/dados_violencia_mulheres_ses_2021.xls')\n",
        "mulher_2022 = pd.read_excel('/content/dados_violencia_mulheres_ses_2022.xls')\n",
        "mulher_2023 = pd.read_excel('/content/dados_violencia_mulheres_ses_2023.xls')\n",
        "\n",
        "#Origem dos dados: https://dados.gov.br/dados/conjuntos-dados/dados_violencia_geral_ses"
      ],
      "metadata": {
        "id": "vs2Lz1D1IJSz"
      },
      "execution_count": 62,
      "outputs": []
    },
    {
      "cell_type": "code",
      "source": [
        "# Verificar se o arquivo a ser analisado esta correto. Podendo ser visualizado os dados iniciais\n",
        "mulher_2010.head(2)"
      ],
      "metadata": {
        "id": "I4mmcJM6Na0o",
        "colab": {
          "base_uri": "https://localhost:8080/"
        },
        "outputId": "7ef4a4b0-9dc5-41fe-b814-d925da9d5f0a"
      },
      "execution_count": 63,
      "outputs": [
        {
          "output_type": "execute_result",
          "data": {
            "text/plain": [
              "   DT_NOTIFIC     DT_NASC  NU_IDADE_N   CS_SEXO CS_RACA            ID_MN_RESI  \\\n",
              "0  03/08/2010  02/11/1937          72  Feminino   Parda  Governador Valadares   \n",
              "1  07/02/2010  30/04/1992          17  Feminino   Parda         Montes Claros   \n",
              "\n",
              "   LOCAL_OCOR OUT_VEZES LES_AUTOP VIOL_FISIC VIOL_PSICO VIOL_SEXU NUM_ENVOLV  \\\n",
              "0  Residencia       Sim       Não        Sim        Sim       Não         Um   \n",
              "1  Residencia  Ignorado       Não        Sim        Sim       NaN         Um   \n",
              "\n",
              "  AUTOR_SEXO ORIENT_SEX IDENT_GEN  \n",
              "0  Masculino        NaN       NaN  \n",
              "1  Masculino        NaN       NaN  "
            ],
            "text/html": [
              "\n",
              "  <div id=\"df-62a0041f-7140-4524-a4e8-59200fc488a2\" class=\"colab-df-container\">\n",
              "    <div>\n",
              "<style scoped>\n",
              "    .dataframe tbody tr th:only-of-type {\n",
              "        vertical-align: middle;\n",
              "    }\n",
              "\n",
              "    .dataframe tbody tr th {\n",
              "        vertical-align: top;\n",
              "    }\n",
              "\n",
              "    .dataframe thead th {\n",
              "        text-align: right;\n",
              "    }\n",
              "</style>\n",
              "<table border=\"1\" class=\"dataframe\">\n",
              "  <thead>\n",
              "    <tr style=\"text-align: right;\">\n",
              "      <th></th>\n",
              "      <th>DT_NOTIFIC</th>\n",
              "      <th>DT_NASC</th>\n",
              "      <th>NU_IDADE_N</th>\n",
              "      <th>CS_SEXO</th>\n",
              "      <th>CS_RACA</th>\n",
              "      <th>ID_MN_RESI</th>\n",
              "      <th>LOCAL_OCOR</th>\n",
              "      <th>OUT_VEZES</th>\n",
              "      <th>LES_AUTOP</th>\n",
              "      <th>VIOL_FISIC</th>\n",
              "      <th>VIOL_PSICO</th>\n",
              "      <th>VIOL_SEXU</th>\n",
              "      <th>NUM_ENVOLV</th>\n",
              "      <th>AUTOR_SEXO</th>\n",
              "      <th>ORIENT_SEX</th>\n",
              "      <th>IDENT_GEN</th>\n",
              "    </tr>\n",
              "  </thead>\n",
              "  <tbody>\n",
              "    <tr>\n",
              "      <th>0</th>\n",
              "      <td>03/08/2010</td>\n",
              "      <td>02/11/1937</td>\n",
              "      <td>72</td>\n",
              "      <td>Feminino</td>\n",
              "      <td>Parda</td>\n",
              "      <td>Governador Valadares</td>\n",
              "      <td>Residencia</td>\n",
              "      <td>Sim</td>\n",
              "      <td>Não</td>\n",
              "      <td>Sim</td>\n",
              "      <td>Sim</td>\n",
              "      <td>Não</td>\n",
              "      <td>Um</td>\n",
              "      <td>Masculino</td>\n",
              "      <td>NaN</td>\n",
              "      <td>NaN</td>\n",
              "    </tr>\n",
              "    <tr>\n",
              "      <th>1</th>\n",
              "      <td>07/02/2010</td>\n",
              "      <td>30/04/1992</td>\n",
              "      <td>17</td>\n",
              "      <td>Feminino</td>\n",
              "      <td>Parda</td>\n",
              "      <td>Montes Claros</td>\n",
              "      <td>Residencia</td>\n",
              "      <td>Ignorado</td>\n",
              "      <td>Não</td>\n",
              "      <td>Sim</td>\n",
              "      <td>Sim</td>\n",
              "      <td>NaN</td>\n",
              "      <td>Um</td>\n",
              "      <td>Masculino</td>\n",
              "      <td>NaN</td>\n",
              "      <td>NaN</td>\n",
              "    </tr>\n",
              "  </tbody>\n",
              "</table>\n",
              "</div>\n",
              "    <div class=\"colab-df-buttons\">\n",
              "\n",
              "  <div class=\"colab-df-container\">\n",
              "    <button class=\"colab-df-convert\" onclick=\"convertToInteractive('df-62a0041f-7140-4524-a4e8-59200fc488a2')\"\n",
              "            title=\"Convert this dataframe to an interactive table.\"\n",
              "            style=\"display:none;\">\n",
              "\n",
              "  <svg xmlns=\"http://www.w3.org/2000/svg\" height=\"24px\" viewBox=\"0 -960 960 960\">\n",
              "    <path d=\"M120-120v-720h720v720H120Zm60-500h600v-160H180v160Zm220 220h160v-160H400v160Zm0 220h160v-160H400v160ZM180-400h160v-160H180v160Zm440 0h160v-160H620v160ZM180-180h160v-160H180v160Zm440 0h160v-160H620v160Z\"/>\n",
              "  </svg>\n",
              "    </button>\n",
              "\n",
              "  <style>\n",
              "    .colab-df-container {\n",
              "      display:flex;\n",
              "      gap: 12px;\n",
              "    }\n",
              "\n",
              "    .colab-df-convert {\n",
              "      background-color: #E8F0FE;\n",
              "      border: none;\n",
              "      border-radius: 50%;\n",
              "      cursor: pointer;\n",
              "      display: none;\n",
              "      fill: #1967D2;\n",
              "      height: 32px;\n",
              "      padding: 0 0 0 0;\n",
              "      width: 32px;\n",
              "    }\n",
              "\n",
              "    .colab-df-convert:hover {\n",
              "      background-color: #E2EBFA;\n",
              "      box-shadow: 0px 1px 2px rgba(60, 64, 67, 0.3), 0px 1px 3px 1px rgba(60, 64, 67, 0.15);\n",
              "      fill: #174EA6;\n",
              "    }\n",
              "\n",
              "    .colab-df-buttons div {\n",
              "      margin-bottom: 4px;\n",
              "    }\n",
              "\n",
              "    [theme=dark] .colab-df-convert {\n",
              "      background-color: #3B4455;\n",
              "      fill: #D2E3FC;\n",
              "    }\n",
              "\n",
              "    [theme=dark] .colab-df-convert:hover {\n",
              "      background-color: #434B5C;\n",
              "      box-shadow: 0px 1px 3px 1px rgba(0, 0, 0, 0.15);\n",
              "      filter: drop-shadow(0px 1px 2px rgba(0, 0, 0, 0.3));\n",
              "      fill: #FFFFFF;\n",
              "    }\n",
              "  </style>\n",
              "\n",
              "    <script>\n",
              "      const buttonEl =\n",
              "        document.querySelector('#df-62a0041f-7140-4524-a4e8-59200fc488a2 button.colab-df-convert');\n",
              "      buttonEl.style.display =\n",
              "        google.colab.kernel.accessAllowed ? 'block' : 'none';\n",
              "\n",
              "      async function convertToInteractive(key) {\n",
              "        const element = document.querySelector('#df-62a0041f-7140-4524-a4e8-59200fc488a2');\n",
              "        const dataTable =\n",
              "          await google.colab.kernel.invokeFunction('convertToInteractive',\n",
              "                                                    [key], {});\n",
              "        if (!dataTable) return;\n",
              "\n",
              "        const docLinkHtml = 'Like what you see? Visit the ' +\n",
              "          '<a target=\"_blank\" href=https://colab.research.google.com/notebooks/data_table.ipynb>data table notebook</a>'\n",
              "          + ' to learn more about interactive tables.';\n",
              "        element.innerHTML = '';\n",
              "        dataTable['output_type'] = 'display_data';\n",
              "        await google.colab.output.renderOutput(dataTable, element);\n",
              "        const docLink = document.createElement('div');\n",
              "        docLink.innerHTML = docLinkHtml;\n",
              "        element.appendChild(docLink);\n",
              "      }\n",
              "    </script>\n",
              "  </div>\n",
              "\n",
              "\n",
              "<div id=\"df-1dd237c9-22f5-4bfd-9c4f-932397268ced\">\n",
              "  <button class=\"colab-df-quickchart\" onclick=\"quickchart('df-1dd237c9-22f5-4bfd-9c4f-932397268ced')\"\n",
              "            title=\"Suggest charts\"\n",
              "            style=\"display:none;\">\n",
              "\n",
              "<svg xmlns=\"http://www.w3.org/2000/svg\" height=\"24px\"viewBox=\"0 0 24 24\"\n",
              "     width=\"24px\">\n",
              "    <g>\n",
              "        <path d=\"M19 3H5c-1.1 0-2 .9-2 2v14c0 1.1.9 2 2 2h14c1.1 0 2-.9 2-2V5c0-1.1-.9-2-2-2zM9 17H7v-7h2v7zm4 0h-2V7h2v10zm4 0h-2v-4h2v4z\"/>\n",
              "    </g>\n",
              "</svg>\n",
              "  </button>\n",
              "\n",
              "<style>\n",
              "  .colab-df-quickchart {\n",
              "      --bg-color: #E8F0FE;\n",
              "      --fill-color: #1967D2;\n",
              "      --hover-bg-color: #E2EBFA;\n",
              "      --hover-fill-color: #174EA6;\n",
              "      --disabled-fill-color: #AAA;\n",
              "      --disabled-bg-color: #DDD;\n",
              "  }\n",
              "\n",
              "  [theme=dark] .colab-df-quickchart {\n",
              "      --bg-color: #3B4455;\n",
              "      --fill-color: #D2E3FC;\n",
              "      --hover-bg-color: #434B5C;\n",
              "      --hover-fill-color: #FFFFFF;\n",
              "      --disabled-bg-color: #3B4455;\n",
              "      --disabled-fill-color: #666;\n",
              "  }\n",
              "\n",
              "  .colab-df-quickchart {\n",
              "    background-color: var(--bg-color);\n",
              "    border: none;\n",
              "    border-radius: 50%;\n",
              "    cursor: pointer;\n",
              "    display: none;\n",
              "    fill: var(--fill-color);\n",
              "    height: 32px;\n",
              "    padding: 0;\n",
              "    width: 32px;\n",
              "  }\n",
              "\n",
              "  .colab-df-quickchart:hover {\n",
              "    background-color: var(--hover-bg-color);\n",
              "    box-shadow: 0 1px 2px rgba(60, 64, 67, 0.3), 0 1px 3px 1px rgba(60, 64, 67, 0.15);\n",
              "    fill: var(--button-hover-fill-color);\n",
              "  }\n",
              "\n",
              "  .colab-df-quickchart-complete:disabled,\n",
              "  .colab-df-quickchart-complete:disabled:hover {\n",
              "    background-color: var(--disabled-bg-color);\n",
              "    fill: var(--disabled-fill-color);\n",
              "    box-shadow: none;\n",
              "  }\n",
              "\n",
              "  .colab-df-spinner {\n",
              "    border: 2px solid var(--fill-color);\n",
              "    border-color: transparent;\n",
              "    border-bottom-color: var(--fill-color);\n",
              "    animation:\n",
              "      spin 1s steps(1) infinite;\n",
              "  }\n",
              "\n",
              "  @keyframes spin {\n",
              "    0% {\n",
              "      border-color: transparent;\n",
              "      border-bottom-color: var(--fill-color);\n",
              "      border-left-color: var(--fill-color);\n",
              "    }\n",
              "    20% {\n",
              "      border-color: transparent;\n",
              "      border-left-color: var(--fill-color);\n",
              "      border-top-color: var(--fill-color);\n",
              "    }\n",
              "    30% {\n",
              "      border-color: transparent;\n",
              "      border-left-color: var(--fill-color);\n",
              "      border-top-color: var(--fill-color);\n",
              "      border-right-color: var(--fill-color);\n",
              "    }\n",
              "    40% {\n",
              "      border-color: transparent;\n",
              "      border-right-color: var(--fill-color);\n",
              "      border-top-color: var(--fill-color);\n",
              "    }\n",
              "    60% {\n",
              "      border-color: transparent;\n",
              "      border-right-color: var(--fill-color);\n",
              "    }\n",
              "    80% {\n",
              "      border-color: transparent;\n",
              "      border-right-color: var(--fill-color);\n",
              "      border-bottom-color: var(--fill-color);\n",
              "    }\n",
              "    90% {\n",
              "      border-color: transparent;\n",
              "      border-bottom-color: var(--fill-color);\n",
              "    }\n",
              "  }\n",
              "</style>\n",
              "\n",
              "  <script>\n",
              "    async function quickchart(key) {\n",
              "      const quickchartButtonEl =\n",
              "        document.querySelector('#' + key + ' button');\n",
              "      quickchartButtonEl.disabled = true;  // To prevent multiple clicks.\n",
              "      quickchartButtonEl.classList.add('colab-df-spinner');\n",
              "      try {\n",
              "        const charts = await google.colab.kernel.invokeFunction(\n",
              "            'suggestCharts', [key], {});\n",
              "      } catch (error) {\n",
              "        console.error('Error during call to suggestCharts:', error);\n",
              "      }\n",
              "      quickchartButtonEl.classList.remove('colab-df-spinner');\n",
              "      quickchartButtonEl.classList.add('colab-df-quickchart-complete');\n",
              "    }\n",
              "    (() => {\n",
              "      let quickchartButtonEl =\n",
              "        document.querySelector('#df-1dd237c9-22f5-4bfd-9c4f-932397268ced button');\n",
              "      quickchartButtonEl.style.display =\n",
              "        google.colab.kernel.accessAllowed ? 'block' : 'none';\n",
              "    })();\n",
              "  </script>\n",
              "</div>\n",
              "\n",
              "    </div>\n",
              "  </div>\n"
            ],
            "application/vnd.google.colaboratory.intrinsic+json": {
              "type": "dataframe",
              "variable_name": "mulher_2010",
              "summary": "{\n  \"name\": \"mulher_2010\",\n  \"rows\": 4485,\n  \"fields\": [\n    {\n      \"column\": \"DT_NOTIFIC\",\n      \"properties\": {\n        \"dtype\": \"object\",\n        \"num_unique_values\": 364,\n        \"samples\": [\n          \"01/08/2010\",\n          \"13/02/2010\",\n          \"08/02/2010\"\n        ],\n        \"semantic_type\": \"\",\n        \"description\": \"\"\n      }\n    },\n    {\n      \"column\": \"DT_NASC\",\n      \"properties\": {\n        \"dtype\": \"object\",\n        \"num_unique_values\": 3764,\n        \"samples\": [\n          \"15/02/1968\",\n          \"14/04/1979\",\n          \"10/11/1989\"\n        ],\n        \"semantic_type\": \"\",\n        \"description\": \"\"\n      }\n    },\n    {\n      \"column\": \"NU_IDADE_N\",\n      \"properties\": {\n        \"dtype\": \"number\",\n        \"std\": 15,\n        \"min\": 0,\n        \"max\": 109,\n        \"num_unique_values\": 95,\n        \"samples\": [\n          36,\n          16,\n          5\n        ],\n        \"semantic_type\": \"\",\n        \"description\": \"\"\n      }\n    },\n    {\n      \"column\": \"CS_SEXO\",\n      \"properties\": {\n        \"dtype\": \"category\",\n        \"num_unique_values\": 1,\n        \"samples\": [\n          \"Feminino\"\n        ],\n        \"semantic_type\": \"\",\n        \"description\": \"\"\n      }\n    },\n    {\n      \"column\": \"CS_RACA\",\n      \"properties\": {\n        \"dtype\": \"category\",\n        \"num_unique_values\": 6,\n        \"samples\": [\n          \"Parda\"\n        ],\n        \"semantic_type\": \"\",\n        \"description\": \"\"\n      }\n    },\n    {\n      \"column\": \"ID_MN_RESI\",\n      \"properties\": {\n        \"dtype\": \"category\",\n        \"num_unique_values\": 311,\n        \"samples\": [\n          \"Manhumirim\"\n        ],\n        \"semantic_type\": \"\",\n        \"description\": \"\"\n      }\n    },\n    {\n      \"column\": \"LOCAL_OCOR\",\n      \"properties\": {\n        \"dtype\": \"category\",\n        \"num_unique_values\": 10,\n        \"samples\": [\n          \"Local de pratica esportiva\"\n        ],\n        \"semantic_type\": \"\",\n        \"description\": \"\"\n      }\n    },\n    {\n      \"column\": \"OUT_VEZES\",\n      \"properties\": {\n        \"dtype\": \"category\",\n        \"num_unique_values\": 3,\n        \"samples\": [\n          \"Sim\"\n        ],\n        \"semantic_type\": \"\",\n        \"description\": \"\"\n      }\n    },\n    {\n      \"column\": \"LES_AUTOP\",\n      \"properties\": {\n        \"dtype\": \"category\",\n        \"num_unique_values\": 3,\n        \"samples\": [\n          \"N\\u00e3o\"\n        ],\n        \"semantic_type\": \"\",\n        \"description\": \"\"\n      }\n    },\n    {\n      \"column\": \"VIOL_FISIC\",\n      \"properties\": {\n        \"dtype\": \"category\",\n        \"num_unique_values\": 3,\n        \"samples\": [\n          \"Sim\"\n        ],\n        \"semantic_type\": \"\",\n        \"description\": \"\"\n      }\n    },\n    {\n      \"column\": \"VIOL_PSICO\",\n      \"properties\": {\n        \"dtype\": \"category\",\n        \"num_unique_values\": 3,\n        \"samples\": [\n          \"Sim\"\n        ],\n        \"semantic_type\": \"\",\n        \"description\": \"\"\n      }\n    },\n    {\n      \"column\": \"VIOL_SEXU\",\n      \"properties\": {\n        \"dtype\": \"category\",\n        \"num_unique_values\": 3,\n        \"samples\": [\n          \"N\\u00e3o\"\n        ],\n        \"semantic_type\": \"\",\n        \"description\": \"\"\n      }\n    },\n    {\n      \"column\": \"NUM_ENVOLV\",\n      \"properties\": {\n        \"dtype\": \"category\",\n        \"num_unique_values\": 3,\n        \"samples\": [\n          \"Um\"\n        ],\n        \"semantic_type\": \"\",\n        \"description\": \"\"\n      }\n    },\n    {\n      \"column\": \"AUTOR_SEXO\",\n      \"properties\": {\n        \"dtype\": \"category\",\n        \"num_unique_values\": 4,\n        \"samples\": [\n          \"Feminino\"\n        ],\n        \"semantic_type\": \"\",\n        \"description\": \"\"\n      }\n    },\n    {\n      \"column\": \"ORIENT_SEX\",\n      \"properties\": {\n        \"dtype\": \"category\",\n        \"num_unique_values\": 4,\n        \"samples\": [\n          \"Heterossexual\"\n        ],\n        \"semantic_type\": \"\",\n        \"description\": \"\"\n      }\n    },\n    {\n      \"column\": \"IDENT_GEN\",\n      \"properties\": {\n        \"dtype\": \"category\",\n        \"num_unique_values\": 3,\n        \"samples\": [\n          \"Ignorado\"\n        ],\n        \"semantic_type\": \"\",\n        \"description\": \"\"\n      }\n    }\n  ]\n}"
            }
          },
          "metadata": {},
          "execution_count": 63
        }
      ]
    },
    {
      "cell_type": "code",
      "source": [
        "# Cria uma tupla com os nomes de todos os arquivos em uso\n",
        "arquivo = (mulher_2010, mulher_2011, mulher_2012, mulher_2013, mulher_2014, mulher_2015, mulher_2016, mulher_2017, mulher_2018, mulher_2019,\n",
        "           mulher_2020, mulher_2021, mulher_2022, mulher_2023)"
      ],
      "metadata": {
        "id": "P5VDUBQ3IWKg"
      },
      "execution_count": 64,
      "outputs": []
    },
    {
      "cell_type": "code",
      "source": [
        "# Realiza contagem de valores nulos em todas as colunas\n",
        "mulher_2010.isna().sum()"
      ],
      "metadata": {
        "id": "i8d71IgfaSez",
        "colab": {
          "base_uri": "https://localhost:8080/"
        },
        "outputId": "d294931a-67fa-4bcd-ae86-f9c42c5f232c"
      },
      "execution_count": 65,
      "outputs": [
        {
          "output_type": "execute_result",
          "data": {
            "text/plain": [
              "DT_NOTIFIC       0\n",
              "DT_NASC        213\n",
              "NU_IDADE_N       0\n",
              "CS_SEXO          0\n",
              "CS_RACA        139\n",
              "ID_MN_RESI      16\n",
              "LOCAL_OCOR     153\n",
              "OUT_VEZES      174\n",
              "LES_AUTOP      694\n",
              "VIOL_FISIC     185\n",
              "VIOL_PSICO     532\n",
              "VIOL_SEXU      525\n",
              "NUM_ENVOLV     106\n",
              "AUTOR_SEXO     144\n",
              "ORIENT_SEX    4297\n",
              "IDENT_GEN     4297\n",
              "dtype: int64"
            ]
          },
          "metadata": {},
          "execution_count": 65
        }
      ]
    },
    {
      "cell_type": "code",
      "source": [
        "# Cria uma função para substituir os valores nulos pelo valor especificado.\n",
        "def nulos (fonte_dados, coluna, substituto):\n",
        "  fonte_dados[coluna] = fonte_dados[coluna].fillna(substituto)"
      ],
      "metadata": {
        "id": "CgckHYPqgldJ"
      },
      "execution_count": 66,
      "outputs": []
    },
    {
      "cell_type": "code",
      "source": [
        "ano = 2010\n",
        "for todos in arquivo:\n",
        "# Na base dos dados, após analise, observou-se que todos os dados nulos na coluna de idade também tinham dados nulos na coluna data de nascimento.\n",
        "# O que impossibilidad qualquer tipo de calculo. Opto, para não excluir o dado, em substituir esse dado faltante pelo valor inteiro da média\n",
        "  nulos(todos, 'NU_IDADE_N', (int(todos['NU_IDADE_N'].mean())))\n",
        "\n",
        "# Coluna de data de nascimento não apresenta uso importante. Opto por substituir, nas linhas que são possível, pela subtração do ano da denuncia pela idade registrada.\n",
        "  nulos(todos, 'DT_NASC', f'{(ano-todos[\"NU_IDADE_N\"])}-01-01')\n",
        "\n",
        "# Nas colunas a seguir, como são colunas relevantes, opto por substituir os valores nulos por 'Ignorado' ou 'Nao informado. Para não ocorrer perda de dados.\n",
        "  nulos(todos, 'CS_RACA', 'Ignorado')\n",
        "  nulos(todos, 'ID_MN_RESI', 'Não informado')\n",
        "  nulos(todos, 'LOCAL_OCOR', 'Ignorado')\n",
        "  nulos(todos, 'OUT_VEZES', 'Ignorado')\n",
        "  nulos(todos, 'LES_AUTOP', 'Ignorado')\n",
        "  nulos(todos, 'VIOL_FISIC', 'Ignorado')\n",
        "  nulos(todos, 'VIOL_PSICO', 'Ignorado')\n",
        "  nulos(todos, 'VIOL_SEXU', 'Ignorado')\n",
        "  nulos(todos, 'NUM_ENVOLV', 'Ignorado')\n",
        "  nulos(todos, 'AUTOR_SEXO', 'Ignorado')\n",
        "  nulos(todos, 'ORIENT_SEX', 'Ignorado')\n",
        "  nulos(todos, 'IDENT_GEN', 'Ignorado')\n",
        "  ano += 1\n"
      ],
      "metadata": {
        "id": "5GFclKG95KSu"
      },
      "execution_count": null,
      "outputs": []
    },
    {
      "cell_type": "markdown",
      "source": [
        "Oscilação de denuncias por ano"
      ],
      "metadata": {
        "id": "3XTFdosAXGNR"
      }
    },
    {
      "cell_type": "code",
      "source": [
        "# Contagem de quantas denuncias houveram em cada ano\n",
        "oscilacao_ano = {}\n",
        "anos = []\n",
        "quantidade = []\n",
        "for loop in range(0, 14):\n",
        "  anos.append(loop+2010)\n",
        "  quantidade.append(len(arquivo[loop]))\n",
        "oscilacao_ano['Ano'] = anos\n",
        "oscilacao_ano['N_denuncias'] = quantidade\n",
        "#oscilacao_ano = pd.DataFrame(oscilacao_ano)"
      ],
      "metadata": {
        "id": "jgZ7h-4x6F0k"
      },
      "execution_count": null,
      "outputs": []
    },
    {
      "cell_type": "code",
      "source": [
        "# Criando o gráfico de linhas com oscilação de denuncias realizadas por ano\n",
        "plt.figure(figsize=(10, 6))\n",
        "plt.plot(oscilacao_ano[\"Ano\"], oscilacao_ano[\"N_denuncias\"], marker='X', linestyle='-', color='r')\n",
        "plt.title(\"Valores ao longo dos anos\")\n",
        "plt.xlabel(\"Ano\")\n",
        "plt.ylabel(\"Número de denuncas\")\n",
        "plt.grid(True)\n",
        "plt.show()"
      ],
      "metadata": {
        "id": "fuhO1V_P-88W"
      },
      "execution_count": null,
      "outputs": []
    },
    {
      "cell_type": "code",
      "source": [
        "#Identificar se há valores menores que 0 na coluna idade. O que pode ser observado nos dados coletados em 2016\n",
        "ano = 2010\n",
        "for todos in arquivo:\n",
        "  print(ano)\n",
        "  print(todos[todos['NU_IDADE_N']<0]['NU_IDADE_N'])\n",
        "  ano += 1"
      ],
      "metadata": {
        "id": "SPkHqSjHPP0P"
      },
      "execution_count": null,
      "outputs": []
    },
    {
      "cell_type": "code",
      "source": [
        "# Mostrar no arquivo de 2016 a linha identificada com valor de idade menor que zero. Observa-se também que a data de notificação é menor que a data de nascimento.\n",
        "mulher_2016.iloc[7954]"
      ],
      "metadata": {
        "id": "BPdxDm6oPjLM"
      },
      "execution_count": null,
      "outputs": []
    },
    {
      "cell_type": "code",
      "source": [
        "# Deixando no dataframe apenas as idades maiores e iguais a zero\n",
        "mulher_2016 = mulher_2016[mulher_2016['NU_IDADE_N']>= 0]"
      ],
      "metadata": {
        "id": "SQ2Ne0FFcpRX"
      },
      "execution_count": null,
      "outputs": []
    },
    {
      "cell_type": "code",
      "source": [
        "# Criar um gráfico de linhas, com 3 linhas, menor, maior e médias da idade de cada ano\n",
        "menor_idade = []\n",
        "maior_idade = []\n",
        "media_idade = []\n",
        "\n",
        "for year in arquivo:\n",
        "  menor_idade.append(year[\"NU_IDADE_N\"].min())\n",
        "  maior_idade.append(year[\"NU_IDADE_N\"].max())\n",
        "  media_idade.append(year[\"NU_IDADE_N\"].mean())\n",
        "\n",
        "menor_idade[6] = 0 #Altera a menor idade de 2016 (valor menor que zero) para zero\n",
        "\n",
        "# Criando o gráfico de linhas com as idades\n",
        "plt.figure(figsize=(10, 6))\n",
        "plt.plot(anos, maior_idade, marker='X', linestyle='-', color='g', label=\"Maior idade\")\n",
        "plt.plot(anos, media_idade, marker='X', linestyle='-', color='b', label=\"Média de idade\")\n",
        "plt.plot(anos, menor_idade, marker='X', linestyle='-', color='r', label=\"Menor idade\")\n",
        "plt.title(\"Idades ao longo dos anos\")\n",
        "plt.xlabel(\"Ano\")\n",
        "plt.ylabel(\"Idade\")\n",
        "plt.legend()\n",
        "plt.grid(True)\n",
        "plt.show()\n"
      ],
      "metadata": {
        "id": "W9a32Xp8AY3r"
      },
      "execution_count": null,
      "outputs": []
    },
    {
      "cell_type": "markdown",
      "source": [
        "Faixa etária / Idade das vítimas"
      ],
      "metadata": {
        "id": "qVg1unb6XMLc"
      }
    },
    {
      "cell_type": "code",
      "source": [
        "# Lista para armazenar os resultados de cada ano\n",
        "resultados_por_ano = []\n",
        "\n",
        "# Loop pelos anos\n",
        "for ano in anos:\n",
        "    # Seleciona o dataframe correspondente ao ano atual\n",
        "    mulher_ano_atual = globals()[f'mulher_{ano}']\n",
        "\n",
        "    # Calcula a faixa de idade para cada registro\n",
        "    mulher_ano_atual['Faixa de Idade'] = pd.cut(mulher_ano_atual['NU_IDADE_N'], bins=range(0, 120, 20))\n",
        "\n",
        "    # Conta o número de pessoas em cada faixa de idade\n",
        "    contagem_por_grupo = mulher_ano_atual['Faixa de Idade'].value_counts().sort_index()\n",
        "\n",
        "    # Adiciona os resultados para o ano atual à lista\n",
        "    resultados_por_ano.append(contagem_por_grupo)\n",
        "\n",
        "# Concatena os resultados de todos os anos em um único dataframe\n",
        "resultados_totais = pd.concat(resultados_por_ano, axis=1)\n",
        "\n",
        "# Define os rótulos para as faixas de idade\n",
        "faixas_idade_rotulos = [f'{i}-{i+19}' for i in range(0, 100, 20)]\n",
        "\n",
        "# Define os rótulos para os anos\n",
        "anos_rotulos = [str(ano) for ano in anos]\n",
        "\n",
        "# Define os anos como índice do dataframe\n",
        "resultados_totais.columns = anos_rotulos\n",
        "\n",
        "# Plota o gráfico de linha\n",
        "resultados_totais.T.plot(kind='line', marker='o')\n",
        "plt.xlabel('Ano')\n",
        "plt.ylabel('Número de Pessoas')\n",
        "plt.title('Oscilação de Grupos de Idade ao Longo dos Anos')\n",
        "plt.legend(title='Faixa de Idade', bbox_to_anchor=(1, 1))\n",
        "plt.xticks(rotation=45)\n",
        "plt.show()"
      ],
      "metadata": {
        "id": "PhKQrcNz5fuM"
      },
      "execution_count": null,
      "outputs": []
    },
    {
      "cell_type": "markdown",
      "source": [
        "Raça das vítimas"
      ],
      "metadata": {
        "id": "-4xExeUSK8k1"
      }
    },
    {
      "cell_type": "code",
      "source": [
        "resultados_por_ano.clear()\n",
        "\n",
        "# Loop pelos anos\n",
        "for ano in anos:\n",
        "    # Seleciona o dataframe correspondente ao ano atual\n",
        "    mulher_ano_atual = globals()[f'mulher_{ano}']\n",
        "\n",
        "    # Conta o número de pessoas em cada raça\n",
        "    contagem_por_raca = mulher_ano_atual['CS_RACA'].value_counts().sort_index()\n",
        "\n",
        "    # Adiciona os resultados para o ano atual à lista\n",
        "    resultados_por_ano.append(contagem_por_raca)\n",
        "\n",
        "# Concatena os resultados de todos os anos em um único dataframe\n",
        "resultados_totais = pd.concat(resultados_por_ano, axis=1)\n",
        "\n",
        "# Define os rótulos para os anos\n",
        "anos_rotulos = [str(ano) for ano in anos]\n",
        "\n",
        "# Define os anos como índice do dataframe\n",
        "resultados_totais.columns = anos_rotulos\n",
        "\n",
        "# Plota o gráfico de linha\n",
        "resultados_totais.T.plot(marker='o')\n",
        "plt.xlabel('Ano')\n",
        "plt.ylabel('Número de Pessoas')\n",
        "plt.title('Evolução da Casos por Raças')\n",
        "plt.legend(title='Raça', bbox_to_anchor=(1, 1))\n",
        "plt.xticks(rotation=45)\n",
        "plt.show()"
      ],
      "metadata": {
        "id": "FVaTvln-hk-f"
      },
      "execution_count": null,
      "outputs": []
    },
    {
      "cell_type": "code",
      "source": [
        "# Obtendo dados da coluna das raças e o total dos casos registrados\n",
        "labels = resultados_totais.index.to_list()\n",
        "values = resultados_totais.iloc[:, -1].tolist()\n",
        "\n",
        "# Criando o gráfico de pizza\n",
        "plt.figure(figsize=(8, 6))\n",
        "plt.pie(values, labels=labels, autopct=\"%1.1f%%\", startangle=90)\n",
        "plt.title('Distribuição das Raças')\n",
        "plt.axis('equal')  # Assegura que o gráfico seja desenhado como um círculo\n",
        "plt.show()"
      ],
      "metadata": {
        "id": "MsIjexwiPbFf"
      },
      "execution_count": null,
      "outputs": []
    },
    {
      "cell_type": "markdown",
      "source": [
        "Municipio da denuncia"
      ],
      "metadata": {
        "id": "Cl1ijf4Xq10L"
      }
    },
    {
      "cell_type": "code",
      "source": [
        "municipios = {}\n",
        "# Concatenando todos os dataframes em um único dataframe\n",
        "mulher_concatenado = pd.concat(arquivo)\n",
        "\n",
        "# Use value_counts() para obter a contagem de ocorrências de cada município\n",
        "contagem_municipios = mulher_concatenado['ID_MN_RESI'].value_counts()\n",
        "\n",
        "# Lista dos 6 municípios mais frequentes\n",
        "top_6_municipios = contagem_municipios.head(6).index.tolist()\n",
        "\n",
        "# Para cada município, realizar a contagem ao longo do tempo\n",
        "for municipio in top_6_municipios:\n",
        "  quantidade = []\n",
        "  for ano in arquivo:\n",
        "    quantidade.append(ano['ID_MN_RESI'].value_counts()[municipio])\n",
        "  municipios[municipio] = quantidade\n",
        "\n",
        "municipios = pd.DataFrame(municipios)\n",
        "\n",
        "municipios.index = anos\n",
        "\n",
        "# Plotar um gráfico de linhas para cada município\n",
        "municipios.plot(kind='line', figsize=(10, 6))\n",
        "\n",
        "# Adicionar rótulos e legendas ao gráfico\n",
        "plt.xlabel('Município')\n",
        "plt.ylabel('Valor')\n",
        "plt.title('Oscilação dos valores por município ao longo dos anos')\n",
        "plt.legend(title='Ano')\n",
        "plt.xticks(rotation=45)\n",
        "plt.grid(True)\n",
        "plt.tight_layout()  # Ajusta automaticamente o layout do gráfico para evitar sobreposição de elementos\n",
        "plt.show()\n"
      ],
      "metadata": {
        "id": "JXe5zv4vShvM"
      },
      "execution_count": null,
      "outputs": []
    },
    {
      "cell_type": "code",
      "source": [
        "# Criação de subplots com 3 linhas e 2 colunas\n",
        "fig, axes = plt.subplots(nrows=3, ncols=2, figsize=(12, 10))\n",
        "\n",
        "# Iteração sobre os municípios e seus respectivos índices\n",
        "for i, municipio in enumerate(top_6_municipios):\n",
        "    # Calcula a posição do subplot\n",
        "    row = i // 2\n",
        "    col = i % 2\n",
        "    # Plota o gráfico para o município atual na posição correta\n",
        "    municipios[municipio].plot(ax=axes[row, col], kind='line')\n",
        "    # Adiciona título para cada subplot\n",
        "    axes[row, col].set_title(f'Município: {municipio}')\n",
        "    # Adiciona rótulos e legendas\n",
        "    axes[row, col].set_xlabel('Ano')\n",
        "    axes[row, col].set_ylabel('Valor')\n",
        "    axes[row, col].legend([municipio])\n",
        "\n",
        "# Ajustes de layout\n",
        "plt.tight_layout()\n",
        "plt.show()"
      ],
      "metadata": {
        "id": "GhYYKk_qoaJf"
      },
      "execution_count": null,
      "outputs": []
    },
    {
      "cell_type": "markdown",
      "source": [
        "Local da ocorrencia"
      ],
      "metadata": {
        "id": "PZ4RER_5pWa_"
      }
    },
    {
      "cell_type": "code",
      "source": [
        "locais = mulher_concatenado['LOCAL_OCOR'].unique()"
      ],
      "metadata": {
        "id": "Ds2LWxiBpR4D"
      },
      "execution_count": null,
      "outputs": []
    },
    {
      "cell_type": "code",
      "source": [
        "# Dados para o gráfico\n",
        "valores = []\n",
        "for onde in locais:\n",
        "    valores.append(mulher_concatenado['LOCAL_OCOR'].value_counts()[onde])\n",
        "\n",
        "# Criando o gráfico de barras\n",
        "plt.figure(figsize=(10, 6))\n",
        "plt.bar(locais, valores, color='crimson')\n",
        "plt.title('Distribuição dos Locais da Ocorrência')\n",
        "plt.xlabel('Locais')\n",
        "plt.ylabel('Número de Ocorrências')\n",
        "\n",
        "# Rotar los ejes x para mejor legibilidad\n",
        "plt.xticks(rotation=45, ha='right')\n",
        "\n",
        "plt.show()"
      ],
      "metadata": {
        "id": "EgxQSI4JQxOL"
      },
      "execution_count": null,
      "outputs": []
    },
    {
      "cell_type": "code",
      "source": [
        "resultados_por_ano.clear()\n",
        "\n",
        "# Loop pelos anos\n",
        "for ano in anos:\n",
        "    # Seleciona o dataframe correspondente ao ano atual\n",
        "    mulher_ano_atual = globals()[f'mulher_{ano}']\n",
        "\n",
        "    # Conta o número de pessoas em cada raça\n",
        "    contagem_por_vezes = mulher_ano_atual['OUT_VEZES'].value_counts().sort_index()\n",
        "\n",
        "    # Adiciona os resultados para o ano atual à lista\n",
        "    resultados_por_ano.append(contagem_por_vezes)\n",
        "\n",
        "# Concatena os resultados de todos os anos em um único dataframe\n",
        "resultados_totais = pd.concat(resultados_por_ano, axis=1)\n",
        "\n",
        "# Define os rótulos para os anos\n",
        "anos_rotulos = [str(ano) for ano in anos]\n",
        "\n",
        "# Define os anos como índice do dataframe\n",
        "resultados_totais.columns = anos_rotulos\n",
        "\n",
        "# Plota o gráfico de linha\n",
        "resultados_totais.T.plot(marker='o')\n",
        "plt.xlabel('Ano')\n",
        "plt.ylabel('Número de Pessoas')\n",
        "plt.title('Evolução da Casos Recorrentes')\n",
        "plt.legend(title='Reincidência', bbox_to_anchor=(1, 1))\n",
        "plt.xticks(rotation=45)\n",
        "plt.show()"
      ],
      "metadata": {
        "id": "Mwak7cKeTT0L"
      },
      "execution_count": null,
      "outputs": []
    },
    {
      "cell_type": "markdown",
      "source": [
        "Evolução de Lesão Autoprovocada"
      ],
      "metadata": {
        "id": "jIAoOxLFWDqR"
      }
    },
    {
      "cell_type": "code",
      "source": [
        "resultados_por_ano.clear()\n",
        "\n",
        "# Loop pelos anos\n",
        "for ano in anos:\n",
        "    # Seleciona o dataframe correspondente ao ano atual\n",
        "    mulher_ano_atual = globals()[f'mulher_{ano}']\n",
        "\n",
        "    # Conta o número de pessoas em cada raça\n",
        "    contagem_por_autoprovocada = mulher_ano_atual['LES_AUTOP'].value_counts().sort_index()\n",
        "\n",
        "    # Adiciona os resultados para o ano atual à lista\n",
        "    resultados_por_ano.append(contagem_por_autoprovocada)\n",
        "\n",
        "# Concatena os resultados de todos os anos em um único dataframe\n",
        "resultados_totais = pd.concat(resultados_por_ano, axis=1)\n",
        "\n",
        "# Define os rótulos para os anos\n",
        "anos_rotulos = [str(ano) for ano in anos]\n",
        "\n",
        "# Define os anos como índice do dataframe\n",
        "resultados_totais.columns = anos_rotulos\n",
        "\n",
        "# Plota o gráfico de linha\n",
        "resultados_totais.T.plot(marker='o')\n",
        "plt.xlabel('Ano')\n",
        "plt.ylabel('Número de Pessoas')\n",
        "plt.title('Evolução de Casos de Lesão Autoprovocada')\n",
        "plt.legend(title='Autoprovocada', bbox_to_anchor=(1, 1))\n",
        "plt.xticks(rotation=45)\n",
        "plt.show()"
      ],
      "metadata": {
        "id": "B81GOQo6Wq-E"
      },
      "execution_count": null,
      "outputs": []
    },
    {
      "cell_type": "markdown",
      "source": [
        "Evolução de Casos de Violência Física"
      ],
      "metadata": {
        "id": "sywdSKNKYsfL"
      }
    },
    {
      "cell_type": "code",
      "source": [
        "resultados_por_ano.clear()\n",
        "\n",
        "# Loop pelos anos\n",
        "for ano in anos:\n",
        "    # Seleciona o dataframe correspondente ao ano atual\n",
        "    mulher_ano_atual = globals()[f'mulher_{ano}']\n",
        "\n",
        "    # Conta o número de pessoas em cada raça\n",
        "    contagem_por_viol_fisica = mulher_ano_atual['VIOL_FISIC'].value_counts().sort_index()\n",
        "\n",
        "    # Adiciona os resultados para o ano atual à lista\n",
        "    resultados_por_ano.append(contagem_por_viol_fisica)\n",
        "\n",
        "# Concatena os resultados de todos os anos em um único dataframe\n",
        "resultados_totais = pd.concat(resultados_por_ano, axis=1)\n",
        "\n",
        "# Define os rótulos para os anos\n",
        "anos_rotulos = [str(ano) for ano in anos]\n",
        "\n",
        "# Define os anos como índice do dataframe\n",
        "resultados_totais.columns = anos_rotulos\n",
        "\n",
        "# Plota o gráfico de linha\n",
        "resultados_totais.T.plot(marker='o')\n",
        "plt.xlabel('Ano')\n",
        "plt.ylabel('Número de Pessoas')\n",
        "plt.title('Evolução de Casos de Violência Física')\n",
        "plt.legend(title='Violência Física', bbox_to_anchor=(1, 1))\n",
        "plt.xticks(rotation=45)\n",
        "plt.show()"
      ],
      "metadata": {
        "id": "1ILmigDBYsOT"
      },
      "execution_count": null,
      "outputs": []
    },
    {
      "cell_type": "markdown",
      "source": [
        "Evolução de Casos de violência Psicológica"
      ],
      "metadata": {
        "id": "yzI_h06kv9SH"
      }
    },
    {
      "cell_type": "code",
      "source": [
        "resultados_por_ano.clear()\n",
        "\n",
        "# Loop pelos anos\n",
        "for ano in anos:\n",
        "    # Seleciona o dataframe correspondente ao ano atual\n",
        "    mulher_ano_atual = globals()[f'mulher_{ano}']\n",
        "\n",
        "    # Conta o número de pessoas em cada raça\n",
        "    contagem_por_viol_psicologica = mulher_ano_atual['VIOL_PSICO'].value_counts().sort_index()\n",
        "\n",
        "    # Adiciona os resultados para o ano atual à lista\n",
        "    resultados_por_ano.append(contagem_por_viol_psicologica)\n",
        "\n",
        "# Concatena os resultados de todos os anos em um único dataframe\n",
        "resultados_totais = pd.concat(resultados_por_ano, axis=1)\n",
        "\n",
        "# Define os rótulos para os anos\n",
        "anos_rotulos = [str(ano) for ano in anos]\n",
        "\n",
        "# Define os anos como índice do dataframe\n",
        "resultados_totais.columns = anos_rotulos\n",
        "\n",
        "# Plota o gráfico de linha\n",
        "resultados_totais.T.plot(marker='o')\n",
        "plt.xlabel('Ano')\n",
        "plt.ylabel('Número de Pessoas')\n",
        "plt.title('Evolução de Casos de Violência Psicológica')\n",
        "plt.legend(title='Violência Psicológica', bbox_to_anchor=(1, 1))\n",
        "plt.xticks(rotation=45)\n",
        "plt.show()"
      ],
      "metadata": {
        "id": "WIdokkTVi0cQ"
      },
      "execution_count": null,
      "outputs": []
    },
    {
      "cell_type": "code",
      "source": [
        "Evolução de Casos de Violência sexual"
      ],
      "metadata": {
        "id": "AjzzQ1hywbg2"
      },
      "execution_count": null,
      "outputs": []
    },
    {
      "cell_type": "code",
      "source": [
        "resultados_por_ano.clear()\n",
        "\n",
        "# Loop pelos anos\n",
        "for ano in anos:\n",
        "    # Seleciona o dataframe correspondente ao ano atual\n",
        "    mulher_ano_atual = globals()[f'mulher_{ano}']\n",
        "\n",
        "    # Conta o número de pessoas em cada raça\n",
        "    contagem_por_viol_sexual = mulher_ano_atual['VIOL_SEXU'].value_counts().sort_index()\n",
        "\n",
        "    # Adiciona os resultados para o ano atual à lista\n",
        "    resultados_por_ano.append(contagem_por_viol_sexual)\n",
        "\n",
        "# Concatena os resultados de todos os anos em um único dataframe\n",
        "resultados_totais = pd.concat(resultados_por_ano, axis=1)\n",
        "\n",
        "# Define os rótulos para os anos\n",
        "anos_rotulos = [str(ano) for ano in anos]\n",
        "\n",
        "# Define os anos como índice do dataframe\n",
        "resultados_totais.columns = anos_rotulos\n",
        "\n",
        "# Plota o gráfico de linha\n",
        "resultados_totais.T.plot(marker='o')\n",
        "plt.xlabel('Ano')\n",
        "plt.ylabel('Número de Pessoas')\n",
        "plt.title('Evolução de Casos de Violência Sexual')\n",
        "plt.legend(title='Violência Sexual', bbox_to_anchor=(1, 1))\n",
        "plt.xticks(rotation=45)\n",
        "plt.show()"
      ],
      "metadata": {
        "id": "HKsJb3LojTxl"
      },
      "execution_count": null,
      "outputs": []
    },
    {
      "cell_type": "code",
      "source": [
        "Número de envolvidos"
      ],
      "metadata": {
        "id": "GGXo5NgowjM2"
      },
      "execution_count": null,
      "outputs": []
    },
    {
      "cell_type": "code",
      "source": [
        "resultados_por_ano.clear()\n",
        "\n",
        "# Loop pelos anos\n",
        "for ano in anos:\n",
        "    # Seleciona o dataframe correspondente ao ano atual\n",
        "    mulher_ano_atual = globals()[f'mulher_{ano}']\n",
        "\n",
        "    # Conta o número de pessoas em cada raça\n",
        "    contagem_por_num_envolvidos = mulher_ano_atual['NUM_ENVOLV'].value_counts().sort_index()\n",
        "\n",
        "    # Adiciona os resultados para o ano atual à lista\n",
        "    resultados_por_ano.append(contagem_por_num_envolvidos)\n",
        "\n",
        "# Concatena os resultados de todos os anos em um único dataframe\n",
        "resultados_totais = pd.concat(resultados_por_ano, axis=1)\n",
        "\n",
        "# Define os rótulos para os anos\n",
        "anos_rotulos = [str(ano) for ano in anos]\n",
        "\n",
        "# Define os anos como índice do dataframe\n",
        "resultados_totais.columns = anos_rotulos\n",
        "\n",
        "# Plota o gráfico de linha\n",
        "resultados_totais.T.plot(marker='o')\n",
        "plt.xlabel('Ano')\n",
        "plt.ylabel('Número de Pessoas')\n",
        "plt.title('Evolução por Número de Envolvidos')\n",
        "plt.legend(title='Nº Envolvidos', bbox_to_anchor=(1, 1))\n",
        "plt.xticks(rotation=45)\n",
        "plt.show()"
      ],
      "metadata": {
        "id": "vmt641D5jpXl"
      },
      "execution_count": null,
      "outputs": []
    },
    {
      "cell_type": "code",
      "source": [
        "Evolução da Orientação Sexual do Autor"
      ],
      "metadata": {
        "id": "C6azQ8H-wrbn"
      },
      "execution_count": null,
      "outputs": []
    },
    {
      "cell_type": "code",
      "source": [
        "resultados_por_ano.clear()\n",
        "\n",
        "# Loop pelos anos\n",
        "for ano in anos:\n",
        "    # Seleciona o dataframe correspondente ao ano atual\n",
        "    mulher_ano_atual = globals()[f'mulher_{ano}']\n",
        "\n",
        "    # Conta o número de pessoas em cada raça\n",
        "    contagem_por_sexo_do_autor = mulher_ano_atual['AUTOR_SEXO'].value_counts().sort_index()\n",
        "\n",
        "    # Adiciona os resultados para o ano atual à lista\n",
        "    resultados_por_ano.append(contagem_por_sexo_do_autor)\n",
        "\n",
        "# Concatena os resultados de todos os anos em um único dataframe\n",
        "resultados_totais = pd.concat(resultados_por_ano, axis=1)\n",
        "\n",
        "# Define os rótulos para os anos\n",
        "anos_rotulos = [str(ano) for ano in anos]\n",
        "\n",
        "# Define os anos como índice do dataframe\n",
        "resultados_totais.columns = anos_rotulos\n",
        "\n",
        "# Plota o gráfico de linha\n",
        "resultados_totais.T.plot(marker='o')\n",
        "plt.xlabel('Ano')\n",
        "plt.ylabel('Número de Pessoas')\n",
        "plt.title('Evolução de Casos pelo Genero do Autor')\n",
        "plt.legend(title='Genero', bbox_to_anchor=(1, 1))\n",
        "plt.xticks(rotation=45)\n",
        "plt.show()"
      ],
      "metadata": {
        "id": "6bn2viD_kKin"
      },
      "execution_count": null,
      "outputs": []
    },
    {
      "cell_type": "markdown",
      "source": [
        "Evolução da Declaração de Orientação Sexual do Autor"
      ],
      "metadata": {
        "id": "OWF2cVXqwz66"
      }
    },
    {
      "cell_type": "code",
      "source": [
        "resultados_por_ano.clear()\n",
        "\n",
        "# Loop pelos anos\n",
        "for ano in anos:\n",
        "    # Seleciona o dataframe correspondente ao ano atual\n",
        "    mulher_ano_atual = globals()[f'mulher_{ano}']\n",
        "\n",
        "    # Conta o número de pessoas em cada raça\n",
        "    contagem_por_orientacao_sexual = mulher_ano_atual['ORIENT_SEX'].value_counts().sort_index()\n",
        "\n",
        "    # Adiciona os resultados para o ano atual à lista\n",
        "    resultados_por_ano.append(contagem_por_orientacao_sexual)\n",
        "\n",
        "# Concatena os resultados de todos os anos em um único dataframe\n",
        "resultados_totais = pd.concat(resultados_por_ano, axis=1)\n",
        "\n",
        "# Define os rótulos para os anos\n",
        "anos_rotulos = [str(ano) for ano in anos]\n",
        "\n",
        "# Define os anos como índice do dataframe\n",
        "resultados_totais.columns = anos_rotulos\n",
        "\n",
        "# Plota o gráfico de linha\n",
        "resultados_totais.T.plot(marker='o')\n",
        "plt.xlabel('Ano')\n",
        "plt.ylabel('Número de Pessoas')\n",
        "plt.title('Evolução de Casos pela Orientação Sexual')\n",
        "plt.legend(title='Orientação Sexual', bbox_to_anchor=(1, 1))\n",
        "plt.xticks(rotation=45)\n",
        "plt.show()"
      ],
      "metadata": {
        "id": "1anlG-UmklYo"
      },
      "execution_count": null,
      "outputs": []
    },
    {
      "cell_type": "markdown",
      "source": [
        "Evolução da Identidade de Gênero do Autor"
      ],
      "metadata": {
        "id": "QBGify38xADp"
      }
    },
    {
      "cell_type": "code",
      "source": [
        "\n",
        "resultados_por_ano.clear()\n",
        "\n",
        "# Loop pelos anos\n",
        "for ano in anos:\n",
        "    # Seleciona o dataframe correspondente ao ano atual\n",
        "    mulher_ano_atual = globals()[f'mulher_{ano}']\n",
        "\n",
        "    # Conta o número de pessoas em cada raça\n",
        "    contagem_por_identidade_de_genero = mulher_ano_atual['IDENT_GEN'].value_counts().sort_index()\n",
        "\n",
        "    # Adiciona os resultados para o ano atual à lista\n",
        "    resultados_por_ano.append(contagem_por_identidade_de_genero)\n",
        "\n",
        "# Concatena os resultados de todos os anos em um único dataframe\n",
        "resultados_totais = pd.concat(resultados_por_ano, axis=1)\n",
        "\n",
        "# Define os rótulos para os anos\n",
        "anos_rotulos = [str(ano) for ano in anos]\n",
        "\n",
        "# Define os anos como índice do dataframe\n",
        "resultados_totais.columns = anos_rotulos\n",
        "\n",
        "# Plota o gráfico de linha\n",
        "resultados_totais.T.plot(marker='o')\n",
        "plt.xlabel('Ano')\n",
        "plt.ylabel('Número de Pessoas')\n",
        "plt.title('Evolução de Casos pela Identidade de Gênero')\n",
        "plt.legend(title='Identidade de Genero', bbox_to_anchor=(1, 1))\n",
        "plt.xticks(rotation=45)\n",
        "plt.show()"
      ],
      "metadata": {
        "id": "lnTowYF6kt1_"
      },
      "execution_count": null,
      "outputs": []
    }
  ]
}