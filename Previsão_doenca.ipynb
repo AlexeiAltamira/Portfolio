{
  "nbformat": 4,
  "nbformat_minor": 0,
  "metadata": {
    "colab": {
      "provenance": [],
      "authorship_tag": "ABX9TyNhNO//qSFS4fkDsxpiRxlU"
    },
    "kernelspec": {
      "name": "python3",
      "display_name": "Python 3"
    },
    "language_info": {
      "name": "python"
    }
  },
  "cells": [
    {
      "cell_type": "code",
      "execution_count": null,
      "metadata": {
        "id": "duXyTi68ZNlo"
      },
      "outputs": [],
      "source": [
        "import pandas as pd #importar principais bibliotecas para auxiliar na leitura, manipulação, tratamento e análise dos dados\n",
        "from sklearn.model_selection import train_test_split\n",
        "from sklearn.ensemble import RandomForestClassifier\n",
        "from sklearn.metrics import accuracy_score, classification_report, confusion_matrix"
      ]
    },
    {
      "cell_type": "code",
      "source": [
        "treino = pd.read_csv('/content/Training.csv') # Usa biblioteca pandas para abrir arquivo data.csv, que contem os dados a serem analisados, direto do site.\n",
        "test = pd.read_csv('/content/Testing.csv')"
      ],
      "metadata": {
        "id": "uwanVDJjZPMc"
      },
      "execution_count": null,
      "outputs": []
    },
    {
      "cell_type": "code",
      "source": [
        "treino.head() # Verificar se o arquivo a ser analisado esta correto. Podendo ser visualizado as 5 linhas iniciais"
      ],
      "metadata": {
        "colab": {
          "base_uri": "https://localhost:8080/",
          "height": 141
        },
        "id": "0Pg9OpyhaBOF",
        "outputId": "3e02ebc6-1376-4ae0-de6e-00dcd01a754a"
      },
      "execution_count": 1,
      "outputs": [
        {
          "output_type": "error",
          "ename": "NameError",
          "evalue": "name 'juntos' is not defined",
          "traceback": [
            "\u001b[0;31m---------------------------------------------------------------------------\u001b[0m",
            "\u001b[0;31mNameError\u001b[0m                                 Traceback (most recent call last)",
            "\u001b[0;32m<ipython-input-1-41c3493a5fbc>\u001b[0m in \u001b[0;36m<cell line: 1>\u001b[0;34m()\u001b[0m\n\u001b[0;32m----> 1\u001b[0;31m \u001b[0mjuntos\u001b[0m\u001b[0;34m.\u001b[0m\u001b[0mhead\u001b[0m\u001b[0;34m(\u001b[0m\u001b[0;34m)\u001b[0m \u001b[0;31m# Verificar se o arquivo a ser analisado esta correto. Podendo ser visualizado as 5 linhas iniciais\u001b[0m\u001b[0;34m\u001b[0m\u001b[0;34m\u001b[0m\u001b[0m\n\u001b[0m",
            "\u001b[0;31mNameError\u001b[0m: name 'juntos' is not defined"
          ]
        }
      ]
    },
    {
      "cell_type": "code",
      "source": [
        "treino.describe(include='all') # Verificar se há alguma discrepantes."
      ],
      "metadata": {
        "colab": {
          "base_uri": "https://localhost:8080/",
          "height": 141
        },
        "id": "dSt7aiFTyRIX",
        "outputId": "c89f7644-5fdf-44bf-dade-e4132240b37b"
      },
      "execution_count": 2,
      "outputs": [
        {
          "output_type": "error",
          "ename": "NameError",
          "evalue": "name 'juntos' is not defined",
          "traceback": [
            "\u001b[0;31m---------------------------------------------------------------------------\u001b[0m",
            "\u001b[0;31mNameError\u001b[0m                                 Traceback (most recent call last)",
            "\u001b[0;32m<ipython-input-2-8cbbc0319fde>\u001b[0m in \u001b[0;36m<cell line: 1>\u001b[0;34m()\u001b[0m\n\u001b[0;32m----> 1\u001b[0;31m \u001b[0mjuntos\u001b[0m\u001b[0;34m.\u001b[0m\u001b[0mdescribe\u001b[0m\u001b[0;34m(\u001b[0m\u001b[0minclude\u001b[0m\u001b[0;34m=\u001b[0m\u001b[0;34m'all'\u001b[0m\u001b[0;34m)\u001b[0m \u001b[0;31m# Verificar se há alguma discrepantes.\u001b[0m\u001b[0;34m\u001b[0m\u001b[0;34m\u001b[0m\u001b[0m\n\u001b[0m",
            "\u001b[0;31mNameError\u001b[0m: name 'juntos' is not defined"
          ]
        }
      ]
    },
    {
      "cell_type": "code",
      "source": [
        "treino.isna().sum() # Verificar e contar dados nulos em todas as colunas."
      ],
      "metadata": {
        "colab": {
          "base_uri": "https://localhost:8080/",
          "height": 141
        },
        "id": "rd4OJK76ygad",
        "outputId": "1ecfae3f-ba75-43f0-d91b-e1822f9724f9"
      },
      "execution_count": 3,
      "outputs": [
        {
          "output_type": "error",
          "ename": "NameError",
          "evalue": "name 'juntos' is not defined",
          "traceback": [
            "\u001b[0;31m---------------------------------------------------------------------------\u001b[0m",
            "\u001b[0;31mNameError\u001b[0m                                 Traceback (most recent call last)",
            "\u001b[0;32m<ipython-input-3-c7b6ec2038b2>\u001b[0m in \u001b[0;36m<cell line: 1>\u001b[0;34m()\u001b[0m\n\u001b[0;32m----> 1\u001b[0;31m \u001b[0mjuntos\u001b[0m\u001b[0;34m.\u001b[0m\u001b[0misna\u001b[0m\u001b[0;34m(\u001b[0m\u001b[0;34m)\u001b[0m\u001b[0;34m.\u001b[0m\u001b[0msum\u001b[0m\u001b[0;34m(\u001b[0m\u001b[0;34m)\u001b[0m \u001b[0;31m# Verificar e contar dados nulos em todas as colunas.\u001b[0m\u001b[0;34m\u001b[0m\u001b[0;34m\u001b[0m\u001b[0m\n\u001b[0m",
            "\u001b[0;31mNameError\u001b[0m: name 'juntos' is not defined"
          ]
        }
      ]
    },
    {
      "cell_type": "code",
      "source": [
        "test.isna().sum()"
      ],
      "metadata": {
        "colab": {
          "base_uri": "https://localhost:8080/"
        },
        "id": "7NkHznCrb96m",
        "outputId": "a34cf176-4686-41d3-cfcd-9c4a9d8cb5db"
      },
      "execution_count": null,
      "outputs": [
        {
          "output_type": "execute_result",
          "data": {
            "text/plain": [
              "itching                 0\n",
              "skin_rash               0\n",
              "nodal_skin_eruptions    0\n",
              "continuous_sneezing     0\n",
              "shivering               0\n",
              "                       ..\n",
              "inflammatory_nails      0\n",
              "blister                 0\n",
              "red_sore_around_nose    0\n",
              "yellow_crust_ooze       0\n",
              "prognosis               0\n",
              "Length: 133, dtype: int64"
            ]
          },
          "metadata": {},
          "execution_count": 91
        }
      ]
    },
    {
      "cell_type": "code",
      "source": [
        "treino = treino.drop('Unnamed: 133',axis=1) # Eliminar a coluna Unnamed: 133 - coluna sem dados"
      ],
      "metadata": {
        "id": "lcKj1KMbAzO7",
        "colab": {
          "base_uri": "https://localhost:8080/",
          "height": 141
        },
        "outputId": "70c6207e-1f49-4dbf-a257-f83a8e142949"
      },
      "execution_count": 4,
      "outputs": [
        {
          "output_type": "error",
          "ename": "NameError",
          "evalue": "name 'juntos' is not defined",
          "traceback": [
            "\u001b[0;31m---------------------------------------------------------------------------\u001b[0m",
            "\u001b[0;31mNameError\u001b[0m                                 Traceback (most recent call last)",
            "\u001b[0;32m<ipython-input-4-4bcec60aa947>\u001b[0m in \u001b[0;36m<cell line: 1>\u001b[0;34m()\u001b[0m\n\u001b[0;32m----> 1\u001b[0;31m \u001b[0mjuntos\u001b[0m \u001b[0;34m=\u001b[0m \u001b[0mjuntos\u001b[0m\u001b[0;34m.\u001b[0m\u001b[0mdrop\u001b[0m\u001b[0;34m(\u001b[0m\u001b[0;34m'Unnamed: 133'\u001b[0m\u001b[0;34m,\u001b[0m\u001b[0maxis\u001b[0m\u001b[0;34m=\u001b[0m\u001b[0;36m1\u001b[0m\u001b[0;34m)\u001b[0m \u001b[0;31m# Eliminar a coluna Unnamed: 133 - coluna sem dados\u001b[0m\u001b[0;34m\u001b[0m\u001b[0;34m\u001b[0m\u001b[0m\n\u001b[0m",
            "\u001b[0;31mNameError\u001b[0m: name 'juntos' is not defined"
          ]
        }
      ]
    },
    {
      "cell_type": "code",
      "source": [
        "treino.rename(columns={\"itching\": \"coceira\", \"skin_rash\": \"erupção_cutânea\", \"nodal_skin_eruptions\": \"erupções_cutâneas_nodais\", \"continuous_sneezing\": \"espirros_contínuos\",\n",
        "                       \"shivering\": \"tremores\", \"chills\": \"calafrios\", \"joint_pain\": \"dor_nas_articulações\", \"stomach_pain\": \"dor_de_estômago\", \"acidity\": \"acidez\",\n",
        "                       \"ulcers_on_tongue\": \"úlceras_na_língua\", \"muscle_wasting\": \"perda_de_massa_muscular\", \"vomiting\": \"vômito\", \"burning_micturition\": \"queimação_na_micção\",\n",
        "                       \"spotting__urination\": \"manchas_na_micção\", \"fatigue\": \"fadiga\", \"weight_gain\": \"ganho_de_peso\", \"anxiety\": \"ansiedade\", \"cold_hands_and_feets\": \"mãos_e_pés_frios\",\n",
        "                       \"mood_swings\": \"alterações_de_humor\", \"weight_loss\": \"perda_de_peso\", \"restlessness\": \"inquietação\", \"lethargy\": \"letargia\", \"patches_in_throat\": \"remendos_na_garganta\",\n",
        "                       \"irregular_sugar_level\": \"nível_de_açúcar_irregular\", \"cough\": \"tosse\", \"high_fever\": \"febre_alta\", \"sunken_eyes\": \"olhos_fundos\", \"breathlessness\": \"falta_de_ar\",\n",
        "                       \"sweating\": \"sudorese\", \"dehydration\": \"desidratação\", \"indigestion\": \"indigestão\", \"headache\": \"dor_de_cabeça\", \"yellowish_skin\": \"pele_amarelada\",\n",
        "                       \"dark_urine\": \"urina_escura\", \"nausea\": \"náusea\", \"loss_of_appetite\": \"perda_de_apetite\", \"pain_behind_the_eyes\": \"dor_atrás_dos_olhos\", \"back_pain\": \"dor_nas_costas\",\n",
        "                       \"constipation\": \"constipação\", \"abdominal_pain\": \"dor_abdominal\", \"diarrhoea\": \"diarréia\", \"mild_fever\": \"febre_leve\", \"yellow_urine\": \"urina_amarela\",\n",
        "                       \"yellowing_of_eyes\": \"amarelecimento_dos_olhos\", \"acute_liver_failure\": \"insuficiência_hepática_aguda_\", \"fluid_overload\": \"sobrecarga_de_fluido\",\n",
        "                       \"swelling_of_stomach\": \"inchaço_do_estômago\", \"swelled_lymph_nodes\": \"linfonodos_inchados\", \"malaise\": \"mal-estar\",\n",
        "                       \"blurred_and_distorted_vision\": \"visão_turva_e_distorcida_\", \"phlegm\": \"catarro\", \"throat_irritation\": \"irritação_na_garganta\",\n",
        "                       \"redness_of_eyes\": \"vermelhidão_nos_olhos\", \"sinus_pressure\": \"pressão_nos_seios_da_face\", \"runny_nose\": \"nariz_escorrendo\", \"congestion\": \"congestão\",\n",
        "                       \"chest_pain\": \"dor_no_peito\", \"weakness_in_limbs\": \"fraqueza_nos_membros\", \"fast_heart_rate\": \"frequência_cardíaca_acelerada\",\n",
        "                       \"pain_during_bowel_movements\": \"dor_durante_movimentos_intestinais\", \"pain_in_anal_region\": \"dor_na_região_anal\", \"bloody_stool\": \"fezes_com_sangue\",\n",
        "                       \"irritation_in_anus\": \"irritação_no_ânus\", \"neck_pain\": \"dor_no_pescoço\", \"dizziness\": \"tonturas\", \"cramps\": \"cólicas\", \"bruising\": \"hematomas\", \"obesity\": \"obesidade\",\n",
        "                       \"swollen_legs\": \"pernas_inchadas\", \"swollen_blood_vessels\": \"s_vasos_sanguíneos_inchados\", \"puffy_face_and_eyes\": \"rosto_e_olhos_inchados\",\n",
        "                       \"enlarged_thyroid\": \"tireóide_aumentada\", \"brittle_nails\": \"unhas_quebradiças\", \"swollen_extremeties\": \"extremidades_inchadas\", \"excessive_hunger\": \"fome_excessiva_\",\n",
        "                       \"extra_marital_contacts\": \"contatos_extraconjugais\", \"drying_and_tingling_lips\": \"lábios_secos_e_formigantes\", \"slurred_speech\": \"fala_arrastada\",\n",
        "                       \"knee_pain\": \"dor_no_joelho\", \"hip_joint_pain\": \"dor_nas_articulações_do_quadril\", \"muscle_weakness\": \"fraqueza_muscular\", \"stiff_neck\": \"rigidez_do_pescoço\",\n",
        "                       \"swelling_joints\": \"inchaço_nas_articulações\", \"movement_stiffness\": \"rigidez_nos_movimentos\", \"spinning_movements\": \"movimentos_giratórios\",\n",
        "                       \"loss_of_balance\": \"perda_de_equilíbrio\", \"unsteadiness\": \"instabilidade\", \"weakness_of_one_body_side\": \"fraqueza_de_um_lado_do_corpo\",\n",
        "                       \"loss_of_smell\": \"perda_de_cheiro\", \"bladder_discomfort\": \"desconforto_na_bexiga\", \"foul_smell_of_urine\": \"cheiro_desagradável__de_urina\",\n",
        "                       \"continuous_feel_of_urine\": \"sensação_contínua_de_urina\", \"passage_of_gases\": \"passagem_de_gases\", \"internal_itching\": \"coceira_interna\",\n",
        "                       \"toxic_look_(typhos)\": \"aparência_tóxica_(tifos)\", \"depression\": \"depressão\", \"irritability\": \"irritabilidade\", \"muscle_pain\": \"dor_muscular\",\n",
        "                       \"altered_sensorium\": \"sensorium_alterado\", \"red_spots_over_body\": \"manchas_vermelhas_no_corpo\", \"belly_pain\": \"dor_de_barriga\",\n",
        "                       \"abnormal_menstruation\": \"menstruação_anormal\", \"dischromic__patches\": \"manchas_discrômicas\", \"watering_from_eyes\": \"lacrimejamento_dos_olhos\",\n",
        "                       \"increased_appetite\": \"aumento_de_apetite\", \"polyuria\": \"poliúria\", \"family_history\": \"história_familiar\", \"mucoid_sputum\": \"escarro_mucoide\",\n",
        "                       \"rusty_sputum\": \"escarro_enferrujado\", \"lack_of_concentration\": \"falta_de_concentração\", \"visual_disturbances\": \"distúrbios_visuais\",\n",
        "                       \"receiving_blood_transfusion\": \"receber_transfusão_de_sangue\", \"receiving_unsterile_injections\": \"receber_injeções_não_estéreis\",\n",
        "                       \"stomach_bleeding\": \"estômago__sangramento\", \"distention_of_abdomen\": \"distensão_do_abdômen\", \"history_of_alcohol_consumption\": \"histórico_de_consumo_de_álcool\",\n",
        "                       \"fluid_overload\": \"sobrecarga_de_fluidos\", \"blood_in_sputum\": \"sangue_na_expectoração\", \"prominent_veins_on_calf\": \"veias_proeminentes_na_panturrilha\",\n",
        "                       \"palpitations\": \"palpitações\", \"painful_walking\": \"caminhada_dolorosa\", \"pus_filled_pimples\": \"espinhas_cheias_de_pus\", \"blackheads\": \"cravos_pretos\",\n",
        "                       \"scurring\": \"cicatrizes\", \"skin_peeling\": \"descamação_da_pele\", \"silver_like_dusting\": \"poeira_semelhante_a_prata\", \"small_dents_in_nails\": \"pequenas_marcas_nas_unhas\",\n",
        "                       \"inflammatory_nails\": \"unhas_inflamatórias\", \"blister\": \"bolha\", \"red_sore_around_nose\": \"feridas_vermelhas_ao_redor_do_nariz\", \"yellow_crust_ooze\": \"crosta_amarela\",\n",
        "                       \"prognosis\": \"prognóstico\"}, inplace=True)\n",
        "\n",
        "test.rename(columns={\"itching\": \"coceira\", \"skin_rash\": \"erupção_cutânea\", \"nodal_skin_eruptions\": \"erupções_cutâneas_nodais\", \"continuous_sneezing\": \"espirros_contínuos\",\n",
        "                       \"shivering\": \"tremores\", \"chills\": \"calafrios\", \"joint_pain\": \"dor_nas_articulações\", \"stomach_pain\": \"dor_de_estômago\", \"acidity\": \"acidez\",\n",
        "                       \"ulcers_on_tongue\": \"úlceras_na_língua\", \"muscle_wasting\": \"perda_de_massa_muscular\", \"vomiting\": \"vômito\", \"burning_micturition\": \"queimação_na_micção\",\n",
        "                       \"spotting__urination\": \"manchas_na_micção\", \"fatigue\": \"fadiga\", \"weight_gain\": \"ganho_de_peso\", \"anxiety\": \"ansiedade\", \"cold_hands_and_feets\": \"mãos_e_pés_frios\",\n",
        "                       \"mood_swings\": \"alterações_de_humor\", \"weight_loss\": \"perda_de_peso\", \"restlessness\": \"inquietação\", \"lethargy\": \"letargia\", \"patches_in_throat\": \"remendos_na_garganta\",\n",
        "                       \"irregular_sugar_level\": \"nível_de_açúcar_irregular\", \"cough\": \"tosse\", \"high_fever\": \"febre_alta\", \"sunken_eyes\": \"olhos_fundos\", \"breathlessness\": \"falta_de_ar\",\n",
        "                       \"sweating\": \"sudorese\", \"dehydration\": \"desidratação\", \"indigestion\": \"indigestão\", \"headache\": \"dor_de_cabeça\", \"yellowish_skin\": \"pele_amarelada\",\n",
        "                       \"dark_urine\": \"urina_escura\", \"nausea\": \"náusea\", \"loss_of_appetite\": \"perda_de_apetite\", \"pain_behind_the_eyes\": \"dor_atrás_dos_olhos\", \"back_pain\": \"dor_nas_costas\",\n",
        "                       \"constipation\": \"constipação\", \"abdominal_pain\": \"dor_abdominal\", \"diarrhoea\": \"diarréia\", \"mild_fever\": \"febre_leve\", \"yellow_urine\": \"urina_amarela\",\n",
        "                       \"yellowing_of_eyes\": \"amarelecimento_dos_olhos\", \"acute_liver_failure\": \"insuficiência_hepática_aguda_\", \"fluid_overload\": \"sobrecarga_de_fluido\",\n",
        "                       \"swelling_of_stomach\": \"inchaço_do_estômago\", \"swelled_lymph_nodes\": \"linfonodos_inchados\", \"malaise\": \"mal-estar\",\n",
        "                       \"blurred_and_distorted_vision\": \"visão_turva_e_distorcida_\", \"phlegm\": \"catarro\", \"throat_irritation\": \"irritação_na_garganta\",\n",
        "                       \"redness_of_eyes\": \"vermelhidão_nos_olhos\", \"sinus_pressure\": \"pressão_nos_seios_da_face\", \"runny_nose\": \"nariz_escorrendo\", \"congestion\": \"congestão\",\n",
        "                       \"chest_pain\": \"dor_no_peito\", \"weakness_in_limbs\": \"fraqueza_nos_membros\", \"fast_heart_rate\": \"frequência_cardíaca_acelerada\",\n",
        "                       \"pain_during_bowel_movements\": \"dor_durante_movimentos_intestinais\", \"pain_in_anal_region\": \"dor_na_região_anal\", \"bloody_stool\": \"fezes_com_sangue\",\n",
        "                       \"irritation_in_anus\": \"irritação_no_ânus\", \"neck_pain\": \"dor_no_pescoço\", \"dizziness\": \"tonturas\", \"cramps\": \"cólicas\", \"bruising\": \"hematomas\", \"obesity\": \"obesidade\",\n",
        "                       \"swollen_legs\": \"pernas_inchadas\", \"swollen_blood_vessels\": \"s_vasos_sanguíneos_inchados\", \"puffy_face_and_eyes\": \"rosto_e_olhos_inchados\",\n",
        "                       \"enlarged_thyroid\": \"tireóide_aumentada\", \"brittle_nails\": \"unhas_quebradiças\", \"swollen_extremeties\": \"extremidades_inchadas\", \"excessive_hunger\": \"fome_excessiva_\",\n",
        "                       \"extra_marital_contacts\": \"contatos_extraconjugais\", \"drying_and_tingling_lips\": \"lábios_secos_e_formigantes\", \"slurred_speech\": \"fala_arrastada\",\n",
        "                       \"knee_pain\": \"dor_no_joelho\", \"hip_joint_pain\": \"dor_nas_articulações_do_quadril\", \"muscle_weakness\": \"fraqueza_muscular\", \"stiff_neck\": \"rigidez_do_pescoço\",\n",
        "                       \"swelling_joints\": \"inchaço_nas_articulações\", \"movement_stiffness\": \"rigidez_nos_movimentos\", \"spinning_movements\": \"movimentos_giratórios\",\n",
        "                       \"loss_of_balance\": \"perda_de_equilíbrio\", \"unsteadiness\": \"instabilidade\", \"weakness_of_one_body_side\": \"fraqueza_de_um_lado_do_corpo\",\n",
        "                       \"loss_of_smell\": \"perda_de_cheiro\", \"bladder_discomfort\": \"desconforto_na_bexiga\", \"foul_smell_of_urine\": \"cheiro_desagradável__de_urina\",\n",
        "                       \"continuous_feel_of_urine\": \"sensação_contínua_de_urina\", \"passage_of_gases\": \"passagem_de_gases\", \"internal_itching\": \"coceira_interna\",\n",
        "                       \"toxic_look_(typhos)\": \"aparência_tóxica_(tifos)\", \"depression\": \"depressão\", \"irritability\": \"irritabilidade\", \"muscle_pain\": \"dor_muscular\",\n",
        "                       \"altered_sensorium\": \"sensorium_alterado\", \"red_spots_over_body\": \"manchas_vermelhas_no_corpo\", \"belly_pain\": \"dor_de_barriga\",\n",
        "                       \"abnormal_menstruation\": \"menstruação_anormal\", \"dischromic__patches\": \"manchas_discrômicas\", \"watering_from_eyes\": \"lacrimejamento_dos_olhos\",\n",
        "                       \"increased_appetite\": \"aumento_de_apetite\", \"polyuria\": \"poliúria\", \"family_history\": \"história_familiar\", \"mucoid_sputum\": \"escarro_mucoide\",\n",
        "                       \"rusty_sputum\": \"escarro_enferrujado\", \"lack_of_concentration\": \"falta_de_concentração\", \"visual_disturbances\": \"distúrbios_visuais\",\n",
        "                       \"receiving_blood_transfusion\": \"receber_transfusão_de_sangue\", \"receiving_unsterile_injections\": \"receber_injeções_não_estéreis\",\n",
        "                       \"stomach_bleeding\": \"estômago__sangramento\", \"distention_of_abdomen\": \"distensão_do_abdômen\", \"history_of_alcohol_consumption\": \"histórico_de_consumo_de_álcool\",\n",
        "                       \"fluid_overload\": \"sobrecarga_de_fluidos\", \"blood_in_sputum\": \"sangue_na_expectoração\", \"prominent_veins_on_calf\": \"veias_proeminentes_na_panturrilha\",\n",
        "                       \"palpitations\": \"palpitações\", \"painful_walking\": \"caminhada_dolorosa\", \"pus_filled_pimples\": \"espinhas_cheias_de_pus\", \"blackheads\": \"cravos_pretos\",\n",
        "                       \"scurring\": \"cicatrizes\", \"skin_peeling\": \"descamação_da_pele\", \"silver_like_dusting\": \"poeira_semelhante_a_prata\", \"small_dents_in_nails\": \"pequenas_marcas_nas_unhas\",\n",
        "                       \"inflammatory_nails\": \"unhas_inflamatórias\", \"blister\": \"bolha\", \"red_sore_around_nose\": \"feridas_vermelhas_ao_redor_do_nariz\", \"yellow_crust_ooze\": \"crosta_amarela\",\n",
        "                       \"prognosis\": \"prognóstico\"}, inplace=True)\n",
        "\n",
        "# Substitui os nomes das colunas dos sintomas em inglês para o sintoma em portugues"
      ],
      "metadata": {
        "id": "gexaauwUaOjM"
      },
      "execution_count": null,
      "outputs": []
    },
    {
      "cell_type": "code",
      "source": [
        "treino.head() # Mostra a mudança feita no mome das colunas com os sintomas"
      ],
      "metadata": {
        "colab": {
          "base_uri": "https://localhost:8080/",
          "height": 141
        },
        "id": "7elGAZgj_IIi",
        "outputId": "efb09964-3e5a-4a35-92f7-9b0f207333f5"
      },
      "execution_count": 5,
      "outputs": [
        {
          "output_type": "error",
          "ename": "NameError",
          "evalue": "name 'juntos' is not defined",
          "traceback": [
            "\u001b[0;31m---------------------------------------------------------------------------\u001b[0m",
            "\u001b[0;31mNameError\u001b[0m                                 Traceback (most recent call last)",
            "\u001b[0;32m<ipython-input-5-3efa9ab25dc9>\u001b[0m in \u001b[0;36m<cell line: 1>\u001b[0;34m()\u001b[0m\n\u001b[0;32m----> 1\u001b[0;31m \u001b[0mjuntos\u001b[0m\u001b[0;34m.\u001b[0m\u001b[0mhead\u001b[0m\u001b[0;34m(\u001b[0m\u001b[0;34m)\u001b[0m \u001b[0;31m# Mostra a mudança feita no mome das colunas com os sintomas\u001b[0m\u001b[0;34m\u001b[0m\u001b[0;34m\u001b[0m\u001b[0m\n\u001b[0m",
            "\u001b[0;31mNameError\u001b[0m: name 'juntos' is not defined"
          ]
        }
      ]
    },
    {
      "cell_type": "code",
      "source": [
        "treino['prognóstico'].unique() # Mostra os diagnósticos únicos da coluna prognóstico\n"
      ],
      "metadata": {
        "colab": {
          "base_uri": "https://localhost:8080/",
          "height": 141
        },
        "id": "SI_dEktMOn9f",
        "outputId": "bfc6d615-56c5-4bb2-d8e9-a56de896b826"
      },
      "execution_count": 6,
      "outputs": [
        {
          "output_type": "error",
          "ename": "NameError",
          "evalue": "name 'juntos' is not defined",
          "traceback": [
            "\u001b[0;31m---------------------------------------------------------------------------\u001b[0m",
            "\u001b[0;31mNameError\u001b[0m                                 Traceback (most recent call last)",
            "\u001b[0;32m<ipython-input-6-7401831ea59c>\u001b[0m in \u001b[0;36m<cell line: 1>\u001b[0;34m()\u001b[0m\n\u001b[0;32m----> 1\u001b[0;31m \u001b[0mjuntos\u001b[0m\u001b[0;34m[\u001b[0m\u001b[0;34m'prognóstico'\u001b[0m\u001b[0;34m]\u001b[0m\u001b[0;34m.\u001b[0m\u001b[0munique\u001b[0m\u001b[0;34m(\u001b[0m\u001b[0;34m)\u001b[0m \u001b[0;31m# Mostra os diagnósticos únicos da coluna prognóstico\u001b[0m\u001b[0;34m\u001b[0m\u001b[0;34m\u001b[0m\u001b[0m\n\u001b[0m",
            "\u001b[0;31mNameError\u001b[0m: name 'juntos' is not defined"
          ]
        }
      ]
    },
    {
      "cell_type": "code",
      "source": [
        "ingles = ('Fungal infection', 'Allergy', 'GERD', 'Chronic cholestasis', 'Drug Reaction', 'Peptic ulcer diseae', 'Gastroenteritis', 'Bronchial Asthma', 'Hypertension ', 'Migraine', 'Cervical spondylosis', 'Paralysis (brain hemorrhage)', 'Jaundice', 'Malaria', 'Chicken pox', 'Dengue', 'Typhoid', 'hepatitis A', 'Hepatitis B', 'Hepatitis C', 'Hepatitis D', 'Hepatitis E', 'Alcoholic hepatitis', 'Tuberculosis', 'Common Cold', 'Pneumonia', 'Dimorphic hemmorhoids(piles)', 'Heart attack', 'Varicose veins', 'Hypothyroidism', 'Hyperthyroidism', 'Hypoglycemia', 'Osteoarthristis', 'Arthritis', '(vertigo) Paroymsal  Positional Vertigo', 'Urinary tract infection', 'Psoriasis')\n",
        "# Feito uma tupla com os diagósticos em inglês - Daignósticos seram substituidos por em protuguês"
      ],
      "metadata": {
        "id": "K6g-OkFoPRpu"
      },
      "execution_count": null,
      "outputs": []
    },
    {
      "cell_type": "code",
      "source": [
        "portugues = ('Infecção fúngica', 'Alergia', 'Refluxo gastroesofágico', 'Colestase crônica', 'Reação medicamentosa', 'Úlcera péptica', 'Gastroenterite', 'Asma brônquica', 'Hipertensão', 'Enxaqueca', 'Espondilose cervical', 'Paralisia (hemorragia cerebral)', 'Icterícia', 'Malária', 'Varicela', 'Dengue', 'Tifóide', 'hepatite A', 'Hepatite B', 'Hepatite C', 'Hepatite D', 'Hepatite E', 'Hepatite alcoólica', 'Tuberculose', 'Resfriado comum', 'Pneumonia', 'Hemorróidas dimórficas (pilhas)', 'Ataque cardíaco', 'Veias varicosas', ' Hipotireoidismo', 'Hipertireoidismo', 'Hipoglicemia', 'Osteoartrite', 'Artrite', '(vertigem) Vertigem posicional paroymsal', 'Infecção do trato urinário', 'Psoríase')\n",
        "# Feito uma tupla com os diagósticos em portugues - Tupla substituirá os diagósticos em inglês"
      ],
      "metadata": {
        "id": "oHMWdbHGQF0D"
      },
      "execution_count": null,
      "outputs": []
    },
    {
      "cell_type": "code",
      "source": [
        "for n_diag in range(0, 37): # n_diag - número de diagnósticos unicos da coluna prognóstico\n",
        "  for linha in range(0, 4920): # 4920 - número de linhas que o dataframe tem\n",
        "    if treino['prognóstico'][linha] == ingles[n_diag]: # Testa se o diagnóstico da linha é o mesmo da tupla em inglês\n",
        "      treino.at[linha, 'prognóstico'] = portugues[n_diag] # Se o teste for positivo substitui o termo em inglês pelo da tupla em português na mesma possição\n",
        "\n",
        "for n_diag in range(0, 37): # n_diag - número de diagnósticos unicos da coluna prognóstico\n",
        "  for linha in range(0, 42): # 42 - número de linhas que o dataframe tem\n",
        "    if test['prognóstico'][linha] == ingles[n_diag]: # Testa se o diagnóstico da linha é o mesmo da tupla em inglês\n",
        "      test.at[linha, 'prognóstico'] = portugues[n_diag] # Se o teste for positivo substitui o termo em inglês pelo da tupla em português na mesma possição"
      ],
      "metadata": {
        "id": "EuKlmEZNVEU1"
      },
      "execution_count": null,
      "outputs": []
    },
    {
      "cell_type": "code",
      "source": [
        "juntos['prognóstico'].head() # Mostrar se os diagósticos da coluna prognóstico foram trocados corretamente"
      ],
      "metadata": {
        "colab": {
          "base_uri": "https://localhost:8080/"
        },
        "id": "eSnyiBJwaOWn",
        "outputId": "12b681fc-033b-4b3d-c8f9-90be78bddef5"
      },
      "execution_count": null,
      "outputs": [
        {
          "output_type": "execute_result",
          "data": {
            "text/plain": [
              "0    Infecção fúngica\n",
              "1    Infecção fúngica\n",
              "2    Infecção fúngica\n",
              "3    Infecção fúngica\n",
              "4    Infecção fúngica\n",
              "Name: prognóstico, dtype: object"
            ]
          },
          "metadata": {},
          "execution_count": 101
        }
      ]
    },
    {
      "cell_type": "code",
      "source": [
        "treino.to_csv('illness.csv', index=False) # Cria um arquivo CSV para uso futuro"
      ],
      "metadata": {
        "id": "WJ0VW4_R_yI3",
        "colab": {
          "base_uri": "https://localhost:8080/",
          "height": 141
        },
        "outputId": "f459fb44-613a-483e-9bbc-e61044a43bd5"
      },
      "execution_count": 7,
      "outputs": [
        {
          "output_type": "error",
          "ename": "NameError",
          "evalue": "name 'juntos' is not defined",
          "traceback": [
            "\u001b[0;31m---------------------------------------------------------------------------\u001b[0m",
            "\u001b[0;31mNameError\u001b[0m                                 Traceback (most recent call last)",
            "\u001b[0;32m<ipython-input-7-904b19d3a40a>\u001b[0m in \u001b[0;36m<cell line: 1>\u001b[0;34m()\u001b[0m\n\u001b[0;32m----> 1\u001b[0;31m \u001b[0mjuntos\u001b[0m\u001b[0;34m.\u001b[0m\u001b[0mto_csv\u001b[0m\u001b[0;34m(\u001b[0m\u001b[0;34m'illness.csv'\u001b[0m\u001b[0;34m,\u001b[0m \u001b[0mindex\u001b[0m\u001b[0;34m=\u001b[0m\u001b[0;32mFalse\u001b[0m\u001b[0;34m)\u001b[0m \u001b[0;31m# Cria um arquivo CSV para uso futuro\u001b[0m\u001b[0;34m\u001b[0m\u001b[0;34m\u001b[0m\u001b[0m\n\u001b[0m",
            "\u001b[0;31mNameError\u001b[0m: name 'juntos' is not defined"
          ]
        }
      ]
    },
    {
      "cell_type": "code",
      "source": [
        "X_train, y_train = treino.drop('prognóstico', axis = 1), treino['prognóstico']\n",
        "\n",
        "X_test, y_test = test.drop('prognóstico', axis = 1), test['prognóstico']"
      ],
      "metadata": {
        "id": "iCoeaWpbapMu"
      },
      "execution_count": null,
      "outputs": []
    },
    {
      "cell_type": "code",
      "source": [
        "# MEU\n",
        "\n",
        "# Separar os recursos das variáveis de destino\n",
        "#X = juntos.drop('prognóstico', axis=1) # Faz separação de traino e teste de um único dataframe. Como separei usar secula anterior\n",
        "#y = juntos['prognóstico']\n",
        "\n",
        "# Dividir os dados em conjuntos de treinamento e teste\n",
        "#X_train, X_test, y_train, y_test = train_test_split(X, y, test_size=0.2, random_state=42)\n",
        "\n",
        "# Inicializar o classificador (Random Forest Classifier neste exemplo)\n",
        "clf = RandomForestClassifier(random_state=42)\n",
        "\n",
        "# Treinar o modelo\n",
        "clf.fit(X_train, y_train)\n",
        "\n",
        "# Fazer previsões no conjunto de teste\n",
        "y_pred = clf.predict(X_test)\n",
        "\n",
        "# Avaliar o desempenho do modelo\n",
        "accuracy = accuracy_score(y_test, y_pred)\n",
        "print(\"Accuracy:\", accuracy)\n",
        "\n",
        "# Exibir outras métricas de avaliação\n",
        "print(classification_report(y_test, y_pred))\n",
        "\n",
        "# Exibir a matriz de confusão\n",
        "conf_matrix = confusion_matrix(y_test, y_pred)\n",
        "print(\"Confusion Matrix:\")\n",
        "print(conf_matrix)"
      ],
      "metadata": {
        "colab": {
          "base_uri": "https://localhost:8080/"
        },
        "id": "St4yxp90Xm5Q",
        "outputId": "c1680402-1b6a-4cfc-f506-0b056bc5d0bc"
      },
      "execution_count": null,
      "outputs": [
        {
          "output_type": "stream",
          "name": "stdout",
          "text": [
            "Accuracy: 0.9761904761904762\n",
            "                                          precision    recall  f1-score   support\n",
            "\n",
            "                         Hipotireoidismo       1.00      1.00      1.00         1\n",
            "(vertigem) Vertigem posicional paroymsal       1.00      1.00      1.00         1\n",
            "                                    AIDS       1.00      1.00      1.00         1\n",
            "                                    Acne       1.00      1.00      1.00         1\n",
            "                                 Alergia       1.00      1.00      1.00         1\n",
            "                                 Artrite       1.00      1.00      1.00         1\n",
            "                          Asma brônquica       1.00      1.00      1.00         1\n",
            "                         Ataque cardíaco       1.00      1.00      1.00         1\n",
            "                       Colestase crônica       1.00      1.00      1.00         1\n",
            "                                  Dengue       1.00      1.00      1.00         1\n",
            "                               Diabetes        1.00      1.00      1.00         1\n",
            "                               Enxaqueca       1.00      1.00      1.00         1\n",
            "                    Espondilose cervical       1.00      1.00      1.00         1\n",
            "                          Gastroenterite       1.00      1.00      1.00         1\n",
            "         Hemorróidas dimórficas (pilhas)       1.00      1.00      1.00         1\n",
            "                              Hepatite B       1.00      1.00      1.00         1\n",
            "                              Hepatite C       1.00      1.00      1.00         1\n",
            "                              Hepatite D       1.00      1.00      1.00         1\n",
            "                              Hepatite E       1.00      1.00      1.00         1\n",
            "                      Hepatite alcoólica       1.00      1.00      1.00         1\n",
            "                             Hipertensão       1.00      1.00      1.00         1\n",
            "                        Hipertireoidismo       1.00      1.00      1.00         1\n",
            "                            Hipoglicemia       1.00      1.00      1.00         1\n",
            "                               Icterícia       1.00      1.00      1.00         1\n",
            "                                Impetigo       0.50      1.00      0.67         1\n",
            "              Infecção do trato urinário       1.00      1.00      1.00         1\n",
            "                        Infecção fúngica       1.00      0.50      0.67         2\n",
            "                                 Malária       1.00      1.00      1.00         1\n",
            "                            Osteoartrite       1.00      1.00      1.00         1\n",
            "         Paralisia (hemorragia cerebral)       1.00      1.00      1.00         1\n",
            "                               Pneumonia       1.00      1.00      1.00         1\n",
            "                                Psoríase       1.00      1.00      1.00         1\n",
            "                    Reação medicamentosa       1.00      1.00      1.00         1\n",
            "                 Refluxo gastroesofágico       1.00      1.00      1.00         1\n",
            "                         Resfriado comum       1.00      1.00      1.00         1\n",
            "                                 Tifóide       1.00      1.00      1.00         1\n",
            "                             Tuberculose       1.00      1.00      1.00         1\n",
            "                                Varicela       1.00      1.00      1.00         1\n",
            "                         Veias varicosas       1.00      1.00      1.00         1\n",
            "                              hepatite A       1.00      1.00      1.00         1\n",
            "                          Úlcera péptica       1.00      1.00      1.00         1\n",
            "\n",
            "                                accuracy                           0.98        42\n",
            "                               macro avg       0.99      0.99      0.98        42\n",
            "                            weighted avg       0.99      0.98      0.98        42\n",
            "\n",
            "Confusion Matrix:\n",
            "[[1 0 0 ... 0 0 0]\n",
            " [0 1 0 ... 0 0 0]\n",
            " [0 0 1 ... 0 0 0]\n",
            " ...\n",
            " [0 0 0 ... 1 0 0]\n",
            " [0 0 0 ... 0 1 0]\n",
            " [0 0 0 ... 0 0 1]]\n"
          ]
        }
      ]
    },
    {
      "cell_type": "code",
      "source": [
        "# Dos outros\n",
        "from sklearn.preprocessing import LabelEncoder\n",
        "\n",
        "from sklearn.ensemble import RandomForestClassifier\n",
        "from sklearn.naive_bayes import MultinomialNB\n",
        "from sklearn.svm import SVC\n",
        "from xgboost import XGBClassifier\n",
        "\n",
        "rfc = RandomForestClassifier()\n",
        "xgb = XGBClassifier(learning_rate=0.9)\n",
        "mnb = MultinomialNB()\n",
        "svc = SVC(C=0.9)\n",
        "\n",
        "#models = [rfc, xgb, mnb, svc]\n",
        "#names = [\"Random Forest\", \"XGB\", \"Multinomial Naive Bayes\", \"Support vector machine\"]\n",
        "# Ele não consegue fazer o XGB - Não sei por que!\n",
        "\n",
        "models = [rfc, mnb, svc]\n",
        "names = [\"Random Forest\", \"Multinomial Naive Bayes\", \"Support vector machine\"]"
      ],
      "metadata": {
        "id": "yWa1h0PtcTbi"
      },
      "execution_count": null,
      "outputs": []
    },
    {
      "cell_type": "code",
      "source": [
        "def training(model, name):\n",
        "    model.fit(X_train, y_train)\n",
        "    pred = model.predict(X_test)\n",
        "    score = accuracy_score(pred, y_test)\n",
        "    print(name, \": {}%\".format(round(score*100, 2)))\n",
        "    report = classification_report(pred, y_test)\n",
        "    print(report)\n",
        "\n",
        "for i, j in zip(models, names):\n",
        "    print(\"*\"*40)\n",
        "    training(i, j)\n",
        "    print()"
      ],
      "metadata": {
        "colab": {
          "base_uri": "https://localhost:8080/"
        },
        "id": "61mn7d_ScfBr",
        "outputId": "d6ad674b-e746-49de-b868-d0fa6afe2220"
      },
      "execution_count": null,
      "outputs": [
        {
          "output_type": "stream",
          "name": "stdout",
          "text": [
            "****************************************\n",
            "Random Forest : 97.62%\n",
            "                                          precision    recall  f1-score   support\n",
            "\n",
            "                         Hipotireoidismo       1.00      1.00      1.00         1\n",
            "(vertigem) Vertigem posicional paroymsal       1.00      1.00      1.00         1\n",
            "                                    AIDS       1.00      1.00      1.00         1\n",
            "                                    Acne       1.00      1.00      1.00         1\n",
            "                                 Alergia       1.00      1.00      1.00         1\n",
            "                                 Artrite       1.00      1.00      1.00         1\n",
            "                          Asma brônquica       1.00      1.00      1.00         1\n",
            "                         Ataque cardíaco       1.00      1.00      1.00         1\n",
            "                       Colestase crônica       1.00      1.00      1.00         1\n",
            "                                  Dengue       1.00      1.00      1.00         1\n",
            "                               Diabetes        1.00      1.00      1.00         1\n",
            "                               Enxaqueca       1.00      1.00      1.00         1\n",
            "                    Espondilose cervical       1.00      1.00      1.00         1\n",
            "                          Gastroenterite       1.00      1.00      1.00         1\n",
            "         Hemorróidas dimórficas (pilhas)       1.00      1.00      1.00         1\n",
            "                              Hepatite B       1.00      1.00      1.00         1\n",
            "                              Hepatite C       1.00      1.00      1.00         1\n",
            "                              Hepatite D       1.00      1.00      1.00         1\n",
            "                              Hepatite E       1.00      1.00      1.00         1\n",
            "                      Hepatite alcoólica       1.00      1.00      1.00         1\n",
            "                             Hipertensão       1.00      1.00      1.00         1\n",
            "                        Hipertireoidismo       1.00      1.00      1.00         1\n",
            "                            Hipoglicemia       1.00      1.00      1.00         1\n",
            "                               Icterícia       1.00      1.00      1.00         1\n",
            "                                Impetigo       1.00      0.50      0.67         2\n",
            "              Infecção do trato urinário       1.00      1.00      1.00         1\n",
            "                        Infecção fúngica       0.50      1.00      0.67         1\n",
            "                                 Malária       1.00      1.00      1.00         1\n",
            "                            Osteoartrite       1.00      1.00      1.00         1\n",
            "         Paralisia (hemorragia cerebral)       1.00      1.00      1.00         1\n",
            "                               Pneumonia       1.00      1.00      1.00         1\n",
            "                                Psoríase       1.00      1.00      1.00         1\n",
            "                    Reação medicamentosa       1.00      1.00      1.00         1\n",
            "                 Refluxo gastroesofágico       1.00      1.00      1.00         1\n",
            "                         Resfriado comum       1.00      1.00      1.00         1\n",
            "                                 Tifóide       1.00      1.00      1.00         1\n",
            "                             Tuberculose       1.00      1.00      1.00         1\n",
            "                                Varicela       1.00      1.00      1.00         1\n",
            "                         Veias varicosas       1.00      1.00      1.00         1\n",
            "                              hepatite A       1.00      1.00      1.00         1\n",
            "                          Úlcera péptica       1.00      1.00      1.00         1\n",
            "\n",
            "                                accuracy                           0.98        42\n",
            "                               macro avg       0.99      0.99      0.98        42\n",
            "                            weighted avg       0.99      0.98      0.98        42\n",
            "\n",
            "\n",
            "****************************************\n",
            "Multinomial Naive Bayes : 100.0%\n",
            "                                          precision    recall  f1-score   support\n",
            "\n",
            "                         Hipotireoidismo       1.00      1.00      1.00         1\n",
            "(vertigem) Vertigem posicional paroymsal       1.00      1.00      1.00         1\n",
            "                                    AIDS       1.00      1.00      1.00         1\n",
            "                                    Acne       1.00      1.00      1.00         1\n",
            "                                 Alergia       1.00      1.00      1.00         1\n",
            "                                 Artrite       1.00      1.00      1.00         1\n",
            "                          Asma brônquica       1.00      1.00      1.00         1\n",
            "                         Ataque cardíaco       1.00      1.00      1.00         1\n",
            "                       Colestase crônica       1.00      1.00      1.00         1\n",
            "                                  Dengue       1.00      1.00      1.00         1\n",
            "                               Diabetes        1.00      1.00      1.00         1\n",
            "                               Enxaqueca       1.00      1.00      1.00         1\n",
            "                    Espondilose cervical       1.00      1.00      1.00         1\n",
            "                          Gastroenterite       1.00      1.00      1.00         1\n",
            "         Hemorróidas dimórficas (pilhas)       1.00      1.00      1.00         1\n",
            "                              Hepatite B       1.00      1.00      1.00         1\n",
            "                              Hepatite C       1.00      1.00      1.00         1\n",
            "                              Hepatite D       1.00      1.00      1.00         1\n",
            "                              Hepatite E       1.00      1.00      1.00         1\n",
            "                      Hepatite alcoólica       1.00      1.00      1.00         1\n",
            "                             Hipertensão       1.00      1.00      1.00         1\n",
            "                        Hipertireoidismo       1.00      1.00      1.00         1\n",
            "                            Hipoglicemia       1.00      1.00      1.00         1\n",
            "                               Icterícia       1.00      1.00      1.00         1\n",
            "                                Impetigo       1.00      1.00      1.00         1\n",
            "              Infecção do trato urinário       1.00      1.00      1.00         1\n",
            "                        Infecção fúngica       1.00      1.00      1.00         2\n",
            "                                 Malária       1.00      1.00      1.00         1\n",
            "                            Osteoartrite       1.00      1.00      1.00         1\n",
            "         Paralisia (hemorragia cerebral)       1.00      1.00      1.00         1\n",
            "                               Pneumonia       1.00      1.00      1.00         1\n",
            "                                Psoríase       1.00      1.00      1.00         1\n",
            "                    Reação medicamentosa       1.00      1.00      1.00         1\n",
            "                 Refluxo gastroesofágico       1.00      1.00      1.00         1\n",
            "                         Resfriado comum       1.00      1.00      1.00         1\n",
            "                                 Tifóide       1.00      1.00      1.00         1\n",
            "                             Tuberculose       1.00      1.00      1.00         1\n",
            "                                Varicela       1.00      1.00      1.00         1\n",
            "                         Veias varicosas       1.00      1.00      1.00         1\n",
            "                              hepatite A       1.00      1.00      1.00         1\n",
            "                          Úlcera péptica       1.00      1.00      1.00         1\n",
            "\n",
            "                                accuracy                           1.00        42\n",
            "                               macro avg       1.00      1.00      1.00        42\n",
            "                            weighted avg       1.00      1.00      1.00        42\n",
            "\n",
            "\n",
            "****************************************\n",
            "Support vector machine : 100.0%\n",
            "                                          precision    recall  f1-score   support\n",
            "\n",
            "                         Hipotireoidismo       1.00      1.00      1.00         1\n",
            "(vertigem) Vertigem posicional paroymsal       1.00      1.00      1.00         1\n",
            "                                    AIDS       1.00      1.00      1.00         1\n",
            "                                    Acne       1.00      1.00      1.00         1\n",
            "                                 Alergia       1.00      1.00      1.00         1\n",
            "                                 Artrite       1.00      1.00      1.00         1\n",
            "                          Asma brônquica       1.00      1.00      1.00         1\n",
            "                         Ataque cardíaco       1.00      1.00      1.00         1\n",
            "                       Colestase crônica       1.00      1.00      1.00         1\n",
            "                                  Dengue       1.00      1.00      1.00         1\n",
            "                               Diabetes        1.00      1.00      1.00         1\n",
            "                               Enxaqueca       1.00      1.00      1.00         1\n",
            "                    Espondilose cervical       1.00      1.00      1.00         1\n",
            "                          Gastroenterite       1.00      1.00      1.00         1\n",
            "         Hemorróidas dimórficas (pilhas)       1.00      1.00      1.00         1\n",
            "                              Hepatite B       1.00      1.00      1.00         1\n",
            "                              Hepatite C       1.00      1.00      1.00         1\n",
            "                              Hepatite D       1.00      1.00      1.00         1\n",
            "                              Hepatite E       1.00      1.00      1.00         1\n",
            "                      Hepatite alcoólica       1.00      1.00      1.00         1\n",
            "                             Hipertensão       1.00      1.00      1.00         1\n",
            "                        Hipertireoidismo       1.00      1.00      1.00         1\n",
            "                            Hipoglicemia       1.00      1.00      1.00         1\n",
            "                               Icterícia       1.00      1.00      1.00         1\n",
            "                                Impetigo       1.00      1.00      1.00         1\n",
            "              Infecção do trato urinário       1.00      1.00      1.00         1\n",
            "                        Infecção fúngica       1.00      1.00      1.00         2\n",
            "                                 Malária       1.00      1.00      1.00         1\n",
            "                            Osteoartrite       1.00      1.00      1.00         1\n",
            "         Paralisia (hemorragia cerebral)       1.00      1.00      1.00         1\n",
            "                               Pneumonia       1.00      1.00      1.00         1\n",
            "                                Psoríase       1.00      1.00      1.00         1\n",
            "                    Reação medicamentosa       1.00      1.00      1.00         1\n",
            "                 Refluxo gastroesofágico       1.00      1.00      1.00         1\n",
            "                         Resfriado comum       1.00      1.00      1.00         1\n",
            "                                 Tifóide       1.00      1.00      1.00         1\n",
            "                             Tuberculose       1.00      1.00      1.00         1\n",
            "                                Varicela       1.00      1.00      1.00         1\n",
            "                         Veias varicosas       1.00      1.00      1.00         1\n",
            "                              hepatite A       1.00      1.00      1.00         1\n",
            "                          Úlcera péptica       1.00      1.00      1.00         1\n",
            "\n",
            "                                accuracy                           1.00        42\n",
            "                               macro avg       1.00      1.00      1.00        42\n",
            "                            weighted avg       1.00      1.00      1.00        42\n",
            "\n",
            "\n"
          ]
        }
      ]
    }
  ]
}